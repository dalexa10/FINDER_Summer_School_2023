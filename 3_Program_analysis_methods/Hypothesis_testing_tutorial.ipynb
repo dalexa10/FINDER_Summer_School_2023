{
  "nbformat": 4,
  "nbformat_minor": 0,
  "metadata": {
    "colab": {
      "provenance": [],
      "include_colab_link": true
    },
    "kernelspec": {
      "name": "python3",
      "display_name": "Python 3"
    },
    "language_info": {
      "name": "python"
    }
  },
  "cells": [
    {
      "cell_type": "markdown",
      "metadata": {
        "id": "view-in-github",
        "colab_type": "text"
      },
      "source": [
        "<a href=\"https://colab.research.google.com/github/dalexa10/FINDER_Summer_School_2023/blob/main/3_Program_analysis_methods/Hypothesis_testing_tutorial.ipynb\" target=\"_parent\"><img src=\"https://colab.research.google.com/assets/colab-badge.svg\" alt=\"Open In Colab\"/></a>"
      ]
    },
    {
      "cell_type": "markdown",
      "source": [
        "# Hypothesis Tutorial for FinDeR Summer School\n",
        "\n",
        "by Mark Fuge, 2023\n",
        "\n",
        "This notebook provides some initial examples of how to use the [Hypothesis Library](https://hypothesis.readthedocs.io/) to do simple testing of functions, from simple fuzz testing to property based testing. We will start with simple examples and then extend in complexity as we go.\n",
        "\n",
        "\n",
        "First, let's install the library:"
      ],
      "metadata": {
        "id": "F-Qgx1BrwmRx"
      }
    },
    {
      "cell_type": "code",
      "source": [
        "#!pip install hypothesis\n",
        "# Do the below instead if you want to test the optional auto-writing features\n",
        "!pip install hypothesis[cli]"
      ],
      "metadata": {
        "colab": {
          "base_uri": "https://localhost:8080/"
        },
        "id": "BNpUX3AexbGV",
        "outputId": "17664484-fe64-4eef-9eff-f8471df966c8"
      },
      "execution_count": null,
      "outputs": [
        {
          "output_type": "stream",
          "name": "stdout",
          "text": [
            "Looking in indexes: https://pypi.org/simple, https://us-python.pkg.dev/colab-wheels/public/simple/\n",
            "Collecting hypothesis[cli]\n",
            "  Downloading hypothesis-6.76.0-py3-none-any.whl (414 kB)\n",
            "\u001b[2K     \u001b[90m━━━━━━━━━━━━━━━━━━━━━━━━━━━━━━━━━━━━━━━\u001b[0m \u001b[32m414.9/414.9 kB\u001b[0m \u001b[31m4.5 MB/s\u001b[0m eta \u001b[36m0:00:00\u001b[0m\n",
            "\u001b[?25hRequirement already satisfied: attrs>=19.2.0 in /usr/local/lib/python3.10/dist-packages (from hypothesis[cli]) (23.1.0)\n",
            "Requirement already satisfied: sortedcontainers<3.0.0,>=2.1.0 in /usr/local/lib/python3.10/dist-packages (from hypothesis[cli]) (2.4.0)\n",
            "Requirement already satisfied: exceptiongroup>=1.0.0 in /usr/local/lib/python3.10/dist-packages (from hypothesis[cli]) (1.1.1)\n",
            "Requirement already satisfied: click>=7.0 in /usr/local/lib/python3.10/dist-packages (from hypothesis[cli]) (8.1.3)\n",
            "Collecting black>=19.10b0 (from hypothesis[cli])\n",
            "  Downloading black-23.3.0-cp310-cp310-manylinux_2_17_x86_64.manylinux2014_x86_64.whl (1.7 MB)\n",
            "\u001b[2K     \u001b[90m━━━━━━━━━━━━━━━━━━━━━━━━━━━━━━━━━━━━━━━━\u001b[0m \u001b[32m1.7/1.7 MB\u001b[0m \u001b[31m26.1 MB/s\u001b[0m eta \u001b[36m0:00:00\u001b[0m\n",
            "\u001b[?25hRequirement already satisfied: rich>=9.0.0 in /usr/local/lib/python3.10/dist-packages (from hypothesis[cli]) (13.3.4)\n",
            "Collecting mypy-extensions>=0.4.3 (from black>=19.10b0->hypothesis[cli])\n",
            "  Downloading mypy_extensions-1.0.0-py3-none-any.whl (4.7 kB)\n",
            "Requirement already satisfied: packaging>=22.0 in /usr/local/lib/python3.10/dist-packages (from black>=19.10b0->hypothesis[cli]) (23.1)\n",
            "Collecting pathspec>=0.9.0 (from black>=19.10b0->hypothesis[cli])\n",
            "  Downloading pathspec-0.11.1-py3-none-any.whl (29 kB)\n",
            "Requirement already satisfied: platformdirs>=2 in /usr/local/lib/python3.10/dist-packages (from black>=19.10b0->hypothesis[cli]) (3.3.0)\n",
            "Requirement already satisfied: tomli>=1.1.0 in /usr/local/lib/python3.10/dist-packages (from black>=19.10b0->hypothesis[cli]) (2.0.1)\n",
            "Requirement already satisfied: markdown-it-py<3.0.0,>=2.2.0 in /usr/local/lib/python3.10/dist-packages (from rich>=9.0.0->hypothesis[cli]) (2.2.0)\n",
            "Requirement already satisfied: pygments<3.0.0,>=2.13.0 in /usr/local/lib/python3.10/dist-packages (from rich>=9.0.0->hypothesis[cli]) (2.14.0)\n",
            "Requirement already satisfied: mdurl~=0.1 in /usr/local/lib/python3.10/dist-packages (from markdown-it-py<3.0.0,>=2.2.0->rich>=9.0.0->hypothesis[cli]) (0.1.2)\n",
            "Installing collected packages: pathspec, mypy-extensions, hypothesis, black\n",
            "Successfully installed black-23.3.0 hypothesis-6.76.0 mypy-extensions-1.0.0 pathspec-0.11.1\n"
          ]
        }
      ]
    },
    {
      "cell_type": "code",
      "source": [
        "from operator import add\n",
        "add(1,2) == 3\n",
        "add(2,2) == 4\n",
        "add(3,2) == 5"
      ],
      "metadata": {
        "colab": {
          "base_uri": "https://localhost:8080/"
        },
        "id": "3J2QzFHSW9jD",
        "outputId": "325056eb-8808-4c53-a2f6-72c02dd6762c"
      },
      "execution_count": null,
      "outputs": [
        {
          "output_type": "execute_result",
          "data": {
            "text/plain": [
              "True"
            ]
          },
          "metadata": {},
          "execution_count": 2
        }
      ]
    },
    {
      "cell_type": "markdown",
      "source": [
        "How would we check whether the addition is happening correctly? We could do a simple test by asserting it is similar to some reference solution:"
      ],
      "metadata": {
        "id": "pZ8uAyv1gGh0"
      }
    },
    {
      "cell_type": "code",
      "source": [
        "def test_addition(a,b):\n",
        "    assert add(a,b) == a+b"
      ],
      "metadata": {
        "id": "wJMCfVqtwxF5"
      },
      "execution_count": null,
      "outputs": []
    },
    {
      "cell_type": "markdown",
      "source": [
        "What kind of conditions would you run the above test against to check whether add was working properly?"
      ],
      "metadata": {
        "id": "IGpXiBjTw5_-"
      }
    },
    {
      "cell_type": "markdown",
      "source": [
        "Here is an example where there is a pretty bad and obvious bug in the code:"
      ],
      "metadata": {
        "id": "q4z0fwrxw0ca"
      }
    },
    {
      "cell_type": "code",
      "source": [
        "def bad_add(a,b):\n",
        "    if (b>500):\n",
        "        print(a,b)\n",
        "        return -1\n",
        "    else:\n",
        "        print(a,b)\n",
        "        return add(a,b)"
      ],
      "metadata": {
        "id": "kUH9iIYoX-0C"
      },
      "execution_count": null,
      "outputs": []
    },
    {
      "cell_type": "markdown",
      "source": [
        "Let's actually write this down the normal way like we would do in a typical test (see tests_normal.py)"
      ],
      "metadata": {
        "id": "sLnjpjsUyNtv"
      }
    },
    {
      "cell_type": "code",
      "source": [
        "!pytest tests_normal.py"
      ],
      "metadata": {
        "colab": {
          "base_uri": "https://localhost:8080/"
        },
        "id": "PEV0XkvVdHGW",
        "outputId": "0e4e4d90-b988-4cfd-ab8e-97ed4573d1cb"
      },
      "execution_count": null,
      "outputs": [
        {
          "output_type": "stream",
          "name": "stdout",
          "text": [
            "\u001b[1m============================= test session starts ==============================\u001b[0m\n",
            "platform linux -- Python 3.10.11, pytest-7.2.2, pluggy-1.0.0\n",
            "rootdir: /content\n",
            "plugins: hypothesis-6.76.0, anyio-3.6.2\n",
            "\u001b[1mcollecting ... \u001b[0m\u001b[1m\rcollected 2 items                                                              \u001b[0m\n",
            "\n",
            "tests_normal.py \u001b[32m.\u001b[0m\u001b[32m.\u001b[0m\u001b[32m                                                       [100%]\u001b[0m\n",
            "\n",
            "\u001b[32m============================== \u001b[32m\u001b[1m2 passed\u001b[0m\u001b[32m in 0.02s\u001b[0m\u001b[32m ===============================\u001b[0m\n"
          ]
        }
      ]
    },
    {
      "cell_type": "markdown",
      "source": [
        "# Using Property Based Testing instead of manually writing the tests down\n",
        "\n",
        "Here, we can use a library like Hypothesis to generate possible test cases."
      ],
      "metadata": {
        "id": "gRNUXwkByVt7"
      }
    },
    {
      "cell_type": "code",
      "source": [
        "from hypothesis import given\n",
        "from hypothesis.strategies import integers"
      ],
      "metadata": {
        "id": "28zMdPEAnjLN"
      },
      "execution_count": null,
      "outputs": []
    },
    {
      "cell_type": "code",
      "source": [
        "from hypothesis.strategies import floats\n",
        "import numpy as np\n",
        "from hypothesis.extra.numpy import arrays\n",
        "# It can sample integers\n",
        "print(integers().example())\n",
        "\n",
        "# It can sample integers -- with some basic restrictions:\n",
        "print(integers(10, 20).example())\n",
        "\n",
        "# It can sample integers -- even with fairly complex restrictions\n",
        "# (e.g., Even numbers)\n",
        "print(integers().filter(lambda x: x % 2 == 0).example())\n",
        "\n",
        "# Or even NumPy objects\n",
        "print(arrays(dtype=np.float64,shape=(10,1)).example())\n",
        "# You can put some limits on these\n",
        "print(arrays(dtype=np.float64,shape=(10,1),\n",
        "             elements=floats(1,200)).example())\n"
      ],
      "metadata": {
        "colab": {
          "base_uri": "https://localhost:8080/"
        },
        "id": "tElltJQNniD2",
        "outputId": "89e32f83-1cee-4024-b259-430433a1c914"
      },
      "execution_count": null,
      "outputs": [
        {
          "output_type": "stream",
          "name": "stdout",
          "text": [
            "21821\n",
            "11\n",
            "-78\n",
            "[[-9.99990000e-001]\n",
            " [ 1.17549435e-038]\n",
            " [-3.33333333e-001]\n",
            " [ 4.07065917e+016]\n",
            " [-1.76754284e+258]\n",
            " [             nan]\n",
            " [-2.22507386e-309]\n",
            " [             nan]\n",
            " [ 2.00001000e+000]\n",
            " [             inf]]\n",
            "[[1.29619889]\n",
            " [1.29619889]\n",
            " [1.29619889]\n",
            " [1.29619889]\n",
            " [1.29619889]\n",
            " [1.29619889]\n",
            " [1.29619889]\n",
            " [1.29619889]\n",
            " [1.29619889]\n",
            " [1.29619889]]\n"
          ]
        }
      ]
    },
    {
      "cell_type": "code",
      "source": [
        "import hypothesis.strategies as st\n",
        "# Uncomment to see other options for things it can generate:\n",
        "print(dir(st))"
      ],
      "metadata": {
        "id": "02WYePd8sHmY",
        "colab": {
          "base_uri": "https://localhost:8080/"
        },
        "outputId": "87f810e2-2b6b-485e-87b4-117747c9c9ea"
      },
      "execution_count": null,
      "outputs": [
        {
          "output_type": "stream",
          "name": "stdout",
          "text": [
            "['DataObject', 'DrawFn', 'SearchStrategy', '__all__', '__builtins__', '__cached__', '__doc__', '__file__', '__loader__', '__name__', '__package__', '__path__', '__spec__', '_internal', '_strategies', 'binary', 'booleans', 'builds', 'characters', 'complex_numbers', 'composite', 'data', 'dates', 'datetimes', 'decimals', 'deferred', 'dictionaries', 'emails', 'fixed_dictionaries', 'floats', 'fractions', 'from_regex', 'from_type', 'frozensets', 'functions', 'integers', 'ip_addresses', 'iterables', 'just', 'lists', 'none', 'nothing', 'one_of', 'permutations', 'random_module', 'randoms', 'recursive', 'register_type_strategy', 'runner', 'sampled_from', 'sets', 'shared', 'slices', 'text', 'timedeltas', 'times', 'timezone_keys', 'timezones', 'tuples', 'uuids']\n",
            "$xL!8f@Z1.RealesTAtE\n"
          ]
        }
      ]
    },
    {
      "cell_type": "markdown",
      "source": [
        "Now, instead of manually specifying the test cases, you can actually just specify a range of inputs and it will test things randomly within this range:"
      ],
      "metadata": {
        "id": "h5PvxJMlzQtO"
      }
    },
    {
      "cell_type": "code",
      "source": [
        "@given(a=integers(), b=integers())\n",
        "def test_addition(a,b):\n",
        "    assert bad_add(a,b) == a+b\n"
      ],
      "metadata": {
        "id": "wtUCU1XHUkMC"
      },
      "execution_count": null,
      "outputs": []
    },
    {
      "cell_type": "markdown",
      "source": [
        "OK, now let's actually run the tests using something like pytest to actually get the failing examples (See tests_hypo.py), and let's print out what it is trying so that we can see what it is doing:"
      ],
      "metadata": {
        "id": "jtnMso9_gMue"
      }
    },
    {
      "cell_type": "code",
      "source": [
        "!pytest tests_hypo.py"
      ],
      "metadata": {
        "colab": {
          "base_uri": "https://localhost:8080/"
        },
        "id": "R8UWFHBHyCKA",
        "outputId": "ee1b7c94-7b7f-418a-ce2f-1e683889dffe"
      },
      "execution_count": null,
      "outputs": [
        {
          "output_type": "stream",
          "name": "stdout",
          "text": [
            "\u001b[1m============================= test session starts ==============================\u001b[0m\n",
            "platform linux -- Python 3.10.11, pytest-7.2.2, pluggy-1.0.0\n",
            "rootdir: /content\n",
            "plugins: hypothesis-6.76.0, anyio-3.6.2\n",
            "collected 2 items                                                              \u001b[0m\n",
            "\n",
            "tests_hypo.py \u001b[32m.\u001b[0m\u001b[32m.\u001b[0m\u001b[32m                                                         [100%]\u001b[0m\n",
            "\n",
            "\u001b[32m============================== \u001b[32m\u001b[1m2 passed\u001b[0m\u001b[32m in 0.60s\u001b[0m\u001b[32m ===============================\u001b[0m\n"
          ]
        }
      ]
    },
    {
      "cell_type": "markdown",
      "source": [
        "Great! We seem to have found the error. We can attempt to fix the bug now, and to make sure that we capture it in the future, we can tell Hypothesis to directly look for this bug next time:"
      ],
      "metadata": {
        "id": "heYZcad4h6jO"
      }
    },
    {
      "cell_type": "code",
      "source": [
        "from hypothesis import example\n",
        "@given(a=integers(), b=integers())\n",
        "@example(0,201)\n",
        "def test_bad_addition(a,b):\n",
        "    assert bad_add(a,b) == a+b"
      ],
      "metadata": {
        "id": "c4QhGg2JiIgk"
      },
      "execution_count": null,
      "outputs": []
    },
    {
      "cell_type": "code",
      "source": [
        "!pytest tests_hypo.py"
      ],
      "metadata": {
        "colab": {
          "base_uri": "https://localhost:8080/"
        },
        "id": "8lFflG2NZjqd",
        "outputId": "cc564bb1-bfb8-41c8-c3ff-80feacdf0837"
      },
      "execution_count": null,
      "outputs": [
        {
          "output_type": "stream",
          "name": "stdout",
          "text": [
            "\u001b[1m============================= test session starts ==============================\u001b[0m\n",
            "platform linux -- Python 3.10.11, pytest-7.2.2, pluggy-1.0.0\n",
            "rootdir: /content\n",
            "plugins: hypothesis-6.76.0, anyio-3.6.2\n",
            "collected 2 items                                                              \u001b[0m\n",
            "\n",
            "tests_hypo.py \u001b[32m.\u001b[0m\u001b[31mF\u001b[0m\u001b[31m                                                         [100%]\u001b[0m\n",
            "\n",
            "=================================== FAILURES ===================================\n",
            "\u001b[31m\u001b[1m______________________________ test_bad_addition _______________________________\u001b[0m\n",
            "\n",
            "    \u001b[37m@given\u001b[39;49;00m(a=floats(min_value=-\u001b[94m500\u001b[39;49;00m,max_value=\u001b[94m500\u001b[39;49;00m),\u001b[90m\u001b[39;49;00m\n",
            ">          b=integers(min_value=-\u001b[94m500\u001b[39;49;00m,max_value=\u001b[94m500\u001b[39;49;00m))\u001b[90m\u001b[39;49;00m\n",
            "\n",
            "\u001b[1m\u001b[31mtests_hypo.py\u001b[0m:40: \n",
            "_ _ _ _ _ _ _ _ _ _ _ _ _ _ _ _ _ _ _ _ _ _ _ _ _ _ _ _ _ _ _ _ _ _ _ _ _ _ _ _ \n",
            "\n",
            "a = 0.0, b = 51\n",
            "\n",
            "    \u001b[37m@given\u001b[39;49;00m(a=floats(min_value=-\u001b[94m500\u001b[39;49;00m,max_value=\u001b[94m500\u001b[39;49;00m),\u001b[90m\u001b[39;49;00m\n",
            "           b=integers(min_value=-\u001b[94m500\u001b[39;49;00m,max_value=\u001b[94m500\u001b[39;49;00m))\u001b[90m\u001b[39;49;00m\n",
            "    \u001b[94mdef\u001b[39;49;00m \u001b[92mtest_bad_addition\u001b[39;49;00m(a,b):\u001b[90m\u001b[39;49;00m\n",
            ">       \u001b[94massert\u001b[39;49;00m bad_add(a,b) == a+b\u001b[90m\u001b[39;49;00m\n",
            "\u001b[1m\u001b[31mE       assert -1 == (0.0 + 51)\u001b[0m\n",
            "\u001b[1m\u001b[31mE        +  where -1 = bad_add(0.0, 51)\u001b[0m\n",
            "\u001b[1m\u001b[31mE       Falsifying example: test_bad_addition(\u001b[0m\n",
            "\u001b[1m\u001b[31mE           a=0.0,\u001b[0m\n",
            "\u001b[1m\u001b[31mE           b=51,\u001b[0m\n",
            "\u001b[1m\u001b[31mE       )\u001b[0m\n",
            "\n",
            "\u001b[1m\u001b[31mtests_hypo.py\u001b[0m:42: AssertionError\n",
            "----------------------------- Captured stdout call -----------------------------\n",
            "0.0 0\n",
            "0.0 0\n",
            "0.0 0\n",
            "2.225073858507e-311 214\n",
            "0.0 214\n",
            "2.00001 -459\n",
            "2.00001 8\n",
            "2.00001 8\n",
            "2.00001 419\n",
            "2.00001 242\n",
            "2.00001 419\n",
            "2.00001 419\n",
            "2.00001 0\n",
            "2.00001 1\n",
            "2.00001 163\n",
            "2.00001 35\n",
            "2.00001 81\n",
            "2.00001 40\n",
            "2.00001 79\n",
            "2.00001 77\n",
            "2.00001 75\n",
            "2.00001 73\n",
            "2.00001 71\n",
            "2.00001 61\n",
            "2.00001 41\n",
            "2.00001 51\n",
            "2.00001 47\n",
            "2.00001 49\n",
            "2.00001 50\n",
            "2.00001 161\n",
            "2.00001 162\n",
            "2.00001 19\n",
            "2.00001 25\n",
            "2.00001 51\n",
            "2.00001 51\n",
            "2.00001 0\n",
            "2.00001 1\n",
            "2.00001 19\n",
            "2.00001 25\n",
            "2.00001 49\n",
            "2.00001 50\n",
            "0.0 51\n",
            "0.0 1\n",
            "0.0 19\n",
            "0.0 25\n",
            "0.0 49\n",
            "0.0 50\n",
            "0.0 5\n",
            "0.0 9\n",
            "0.0 51\n",
            "\u001b[36m\u001b[1m=========================== short test summary info ============================\u001b[0m\n",
            "\u001b[31mFAILED\u001b[0m tests_hypo.py::\u001b[1mtest_bad_addition\u001b[0m - assert -1 == (0.0 + 51)\n",
            "\u001b[31m========================= \u001b[31m\u001b[1m1 failed\u001b[0m, \u001b[32m1 passed\u001b[0m\u001b[31m in 0.80s\u001b[0m\u001b[31m ==========================\u001b[0m\n"
          ]
        }
      ]
    },
    {
      "cell_type": "markdown",
      "source": [
        "How many of these tests should we do? We can specify this via the `settings` decorator. Too few and we may not catch the error. Too many and we may take forever!"
      ],
      "metadata": {
        "id": "oiYhyJAcjAS5"
      }
    },
    {
      "cell_type": "code",
      "source": [
        "from hypothesis import settings\n",
        "@given(a=integers(), b=integers())\n",
        "@settings(max_examples=10)\n",
        "def test_bad_addition(a,b):\n",
        "    assert bad_add(a,b) == a+b"
      ],
      "metadata": {
        "id": "bSDo1VovjJVu"
      },
      "execution_count": null,
      "outputs": []
    },
    {
      "cell_type": "markdown",
      "source": [
        "OK, fine, but what if my function will never really be dealing with extreme values like the crazy integers that we see here. Can't I make this more helpful by restricting it to just the range of values that I care about? Absolutely! We can just change the testing strategy:"
      ],
      "metadata": {
        "id": "HK7_TNZPj7Ru"
      }
    },
    {
      "cell_type": "code",
      "source": [
        "@given(a=integers(min_value=-500,max_value=500),\n",
        "       b=integers(min_value=-500,max_value=500))\n",
        "def test_bad_addition(a,b):\n",
        "    assert bad_add(a,b) == a+b"
      ],
      "metadata": {
        "id": "daTd3YKzkMS5"
      },
      "execution_count": null,
      "outputs": []
    },
    {
      "cell_type": "markdown",
      "source": [
        "We can also change the type of testing strategy that we use:"
      ],
      "metadata": {
        "id": "bbNOJPR8kw-9"
      }
    },
    {
      "cell_type": "code",
      "source": [
        "from hypothesis.strategies import floats\n",
        "@given(a=floats(min_value=-500,max_value=500),\n",
        "       b=integers(min_value=-500,max_value=500))\n",
        "def test_bad_addition(a,b):\n",
        "    assert bad_add(a,b) == a+b"
      ],
      "metadata": {
        "id": "4kO9pHmtk1VU"
      },
      "execution_count": null,
      "outputs": []
    },
    {
      "cell_type": "markdown",
      "source": [
        "# A (slightly) more complex example\n",
        "\n",
        "We'll test a couple of functions to see if we can identify cases where they are not their own inverse (i.e., where $f(f(x)) = x$)"
      ],
      "metadata": {
        "id": "UhFYV6ARs9Ix"
      }
    },
    {
      "cell_type": "code",
      "source": [
        "# Check whether a function is it's own inverse\n",
        "def check_inverse(f,x):\n",
        "    assert f(f(x)) == x"
      ],
      "metadata": {
        "id": "tWRKEu0dtEkO"
      },
      "execution_count": null,
      "outputs": []
    },
    {
      "cell_type": "code",
      "source": [
        "!pytest test_inverse.py"
      ],
      "metadata": {
        "colab": {
          "base_uri": "https://localhost:8080/"
        },
        "id": "YccOMvAFt4fO",
        "outputId": "fd40332b-78b9-405d-ae48-6c826e5c89c0"
      },
      "execution_count": null,
      "outputs": [
        {
          "output_type": "stream",
          "name": "stdout",
          "text": [
            "\u001b[1m============================= test session starts ==============================\u001b[0m\n",
            "platform linux -- Python 3.10.11, pytest-7.2.2, pluggy-1.0.0\n",
            "rootdir: /content\n",
            "plugins: hypothesis-6.76.0, anyio-3.6.2\n",
            "collected 3 items                                                              \u001b[0m\n",
            "\n",
            "test_inverse.py \u001b[32m.\u001b[0m\u001b[31mF\u001b[0m\u001b[31mF\u001b[0m\u001b[31m                                                      [100%]\u001b[0m\n",
            "\n",
            "=================================== FAILURES ===================================\n",
            "\u001b[31m\u001b[1m___________________________________ test_1x ____________________________________\u001b[0m\n",
            "\n",
            "    \u001b[37m@given\u001b[39;49;00m(x = floats(allow_nan=\u001b[94mFalse\u001b[39;49;00m))\u001b[90m\u001b[39;49;00m\n",
            ">   \u001b[94mdef\u001b[39;49;00m \u001b[92mtest_1x\u001b[39;49;00m(x):\u001b[90m\u001b[39;49;00m\n",
            "\n",
            "\u001b[1m\u001b[31mtest_inverse.py\u001b[0m:13: \n",
            "_ _ _ _ _ _ _ _ _ _ _ _ _ _ _ _ _ _ _ _ _ _ _ _ _ _ _ _ _ _ _ _ _ _ _ _ _ _ _ _ \n",
            "\u001b[1m\u001b[31mtest_inverse.py\u001b[0m:15: in test_1x\n",
            "    check_inverse(f,x)\u001b[90m\u001b[39;49;00m\n",
            "\u001b[1m\u001b[31mtest_inverse.py\u001b[0m:5: in check_inverse\n",
            "    \u001b[94massert\u001b[39;49;00m f(f(x)) == x\u001b[90m\u001b[39;49;00m\n",
            "_ _ _ _ _ _ _ _ _ _ _ _ _ _ _ _ _ _ _ _ _ _ _ _ _ _ _ _ _ _ _ _ _ _ _ _ _ _ _ _ \n",
            "\n",
            "a = 0.0\n",
            "\n",
            ">   f = \u001b[94mlambda\u001b[39;49;00m a: \u001b[94m1\u001b[39;49;00m/a\u001b[90m\u001b[39;49;00m\n",
            "\u001b[1m\u001b[31mE   ZeroDivisionError: float division by zero\u001b[0m\n",
            "\u001b[1m\u001b[31mE   Falsifying example: test_1x(\u001b[0m\n",
            "\u001b[1m\u001b[31mE       x=0.0,\u001b[0m\n",
            "\u001b[1m\u001b[31mE   )\u001b[0m\n",
            "\n",
            "\u001b[1m\u001b[31mtest_inverse.py\u001b[0m:14: ZeroDivisionError\n",
            "\u001b[31m\u001b[1m____________________________________ test_3 ____________________________________\u001b[0m\n",
            "\n",
            "    \u001b[37m@given\u001b[39;49;00m(x = floats(allow_nan=\u001b[94mFalse\u001b[39;49;00m))\u001b[90m\u001b[39;49;00m\n",
            ">   \u001b[94mdef\u001b[39;49;00m \u001b[92mtest_3\u001b[39;49;00m(x):\u001b[90m\u001b[39;49;00m\n",
            "\n",
            "\u001b[1m\u001b[31mtest_inverse.py\u001b[0m:18: \n",
            "_ _ _ _ _ _ _ _ _ _ _ _ _ _ _ _ _ _ _ _ _ _ _ _ _ _ _ _ _ _ _ _ _ _ _ _ _ _ _ _ \n",
            "\u001b[1m\u001b[31mtest_inverse.py\u001b[0m:20: in test_3\n",
            "    check_inverse(f,x)\u001b[90m\u001b[39;49;00m\n",
            "\u001b[1m\u001b[31mtest_inverse.py\u001b[0m:5: in check_inverse\n",
            "    \u001b[94massert\u001b[39;49;00m f(f(x)) == x\u001b[90m\u001b[39;49;00m\n",
            "_ _ _ _ _ _ _ _ _ _ _ _ _ _ _ _ _ _ _ _ _ _ _ _ _ _ _ _ _ _ _ _ _ _ _ _ _ _ _ _ \n",
            "\n",
            "a = 1.0\n",
            "\n",
            ">   f = \u001b[94mlambda\u001b[39;49;00m a: a/(a-\u001b[94m1\u001b[39;49;00m)\u001b[90m\u001b[39;49;00m\n",
            "\u001b[1m\u001b[31mE   ZeroDivisionError: float division by zero\u001b[0m\n",
            "\u001b[1m\u001b[31mE   Falsifying example: test_3(\u001b[0m\n",
            "\u001b[1m\u001b[31mE       x=1.0,\u001b[0m\n",
            "\u001b[1m\u001b[31mE   )\u001b[0m\n",
            "\n",
            "\u001b[1m\u001b[31mtest_inverse.py\u001b[0m:19: ZeroDivisionError\n",
            "\u001b[36m\u001b[1m=========================== short test summary info ============================\u001b[0m\n",
            "\u001b[31mFAILED\u001b[0m test_inverse.py::\u001b[1mtest_1x\u001b[0m - ZeroDivisionError: float division by zero\n",
            "\u001b[31mFAILED\u001b[0m test_inverse.py::\u001b[1mtest_3\u001b[0m - ZeroDivisionError: float division by zero\n",
            "\u001b[31m========================= \u001b[31m\u001b[1m2 failed\u001b[0m, \u001b[32m1 passed\u001b[0m\u001b[31m in 0.96s\u001b[0m\u001b[31m ==========================\u001b[0m\n"
          ]
        }
      ]
    },
    {
      "cell_type": "markdown",
      "source": [
        "# A More Design/Engineering example: Detecting Logical Paradoxes\n",
        "\n",
        "This example is taken directly from the [Hypothesis documentation](https://hypothesis.readthedocs.io/en/latest/examples.html#condorcet-s-paradox), wherein we can automatically discover a subtle paradox in social choice theory/voting called the [Condorcet Paradox](https://en.wikipedia.org/wiki/Condorcet_paradox). In this, we can find a case that breaks the formal property that a given voting system's preferences should be transitive. (See `condorcet_paradox.py`)"
      ],
      "metadata": {
        "id": "Fn8LMPTE2K-u"
      }
    },
    {
      "cell_type": "code",
      "source": [
        "!pytest condorcet_paradox.py"
      ],
      "metadata": {
        "colab": {
          "base_uri": "https://localhost:8080/"
        },
        "id": "FcalovY-3KuK",
        "outputId": "df44dde7-4a77-4845-b6ff-90f3c12a5605"
      },
      "execution_count": null,
      "outputs": [
        {
          "output_type": "stream",
          "name": "stdout",
          "text": [
            "\u001b[1m============================= test session starts ==============================\u001b[0m\n",
            "platform linux -- Python 3.10.11, pytest-7.2.2, pluggy-1.0.0\n",
            "rootdir: /content\n",
            "plugins: hypothesis-6.76.0, anyio-3.6.2\n",
            "collected 1 item                                                               \u001b[0m\n",
            "\n",
            "condorcet_paradox.py \u001b[31mF\u001b[0m\u001b[31m                                                   [100%]\u001b[0m\n",
            "\n",
            "=================================== FAILURES ===================================\n",
            "\u001b[31m\u001b[1m________________________ test_elections_are_transitive _________________________\u001b[0m\n",
            "\n",
            "    \u001b[37m@given\u001b[39;49;00m(lists(permutations([\u001b[33m\"\u001b[39;49;00m\u001b[33mA\u001b[39;49;00m\u001b[33m\"\u001b[39;49;00m, \u001b[33m\"\u001b[39;49;00m\u001b[33mB\u001b[39;49;00m\u001b[33m\"\u001b[39;49;00m, \u001b[33m\"\u001b[39;49;00m\u001b[33mC\u001b[39;49;00m\u001b[33m\"\u001b[39;49;00m]), min_size=\u001b[94m4\u001b[39;49;00m))\u001b[90m\u001b[39;49;00m\n",
            ">   \u001b[94mdef\u001b[39;49;00m \u001b[92mtest_elections_are_transitive\u001b[39;49;00m(election):\u001b[90m\u001b[39;49;00m\n",
            "\n",
            "\u001b[1m\u001b[31mcondorcet_paradox.py\u001b[0m:10: \n",
            "_ _ _ _ _ _ _ _ _ _ _ _ _ _ _ _ _ _ _ _ _ _ _ _ _ _ _ _ _ _ _ _ _ _ _ _ _ _ _ _ \n",
            "\n",
            "election = [['A', 'C', 'B'], ['A', 'C', 'B'], ['B', 'A', 'C'], ['B', 'A', 'C'], ['C', 'B', 'A']]\n",
            "\n",
            "    \u001b[37m@given\u001b[39;49;00m(lists(permutations([\u001b[33m\"\u001b[39;49;00m\u001b[33mA\u001b[39;49;00m\u001b[33m\"\u001b[39;49;00m, \u001b[33m\"\u001b[39;49;00m\u001b[33mB\u001b[39;49;00m\u001b[33m\"\u001b[39;49;00m, \u001b[33m\"\u001b[39;49;00m\u001b[33mC\u001b[39;49;00m\u001b[33m\"\u001b[39;49;00m]), min_size=\u001b[94m4\u001b[39;49;00m))\u001b[90m\u001b[39;49;00m\n",
            "    \u001b[94mdef\u001b[39;49;00m \u001b[92mtest_elections_are_transitive\u001b[39;49;00m(election):\u001b[90m\u001b[39;49;00m\n",
            "        all_candidates = {\u001b[33m\"\u001b[39;49;00m\u001b[33mA\u001b[39;49;00m\u001b[33m\"\u001b[39;49;00m, \u001b[33m\"\u001b[39;49;00m\u001b[33mB\u001b[39;49;00m\u001b[33m\"\u001b[39;49;00m, \u001b[33m\"\u001b[39;49;00m\u001b[33mC\u001b[39;49;00m\u001b[33m\"\u001b[39;49;00m}\u001b[90m\u001b[39;49;00m\n",
            "    \u001b[90m\u001b[39;49;00m\n",
            "        \u001b[90m# First calculate the pairwise counts of how many prefer each candidate\u001b[39;49;00m\u001b[90m\u001b[39;49;00m\n",
            "        \u001b[90m# to the other\u001b[39;49;00m\u001b[90m\u001b[39;49;00m\n",
            "        counts = Counter()\u001b[90m\u001b[39;49;00m\n",
            "        \u001b[94mfor\u001b[39;49;00m vote \u001b[95min\u001b[39;49;00m election:\u001b[90m\u001b[39;49;00m\n",
            "            \u001b[94mfor\u001b[39;49;00m i \u001b[95min\u001b[39;49;00m \u001b[96mrange\u001b[39;49;00m(\u001b[96mlen\u001b[39;49;00m(vote)):\u001b[90m\u001b[39;49;00m\n",
            "                \u001b[94mfor\u001b[39;49;00m j \u001b[95min\u001b[39;49;00m \u001b[96mrange\u001b[39;49;00m(i + \u001b[94m1\u001b[39;49;00m, \u001b[96mlen\u001b[39;49;00m(vote)):\u001b[90m\u001b[39;49;00m\n",
            "                    counts[(vote[i], vote[j])] += \u001b[94m1\u001b[39;49;00m\u001b[90m\u001b[39;49;00m\n",
            "    \u001b[90m\u001b[39;49;00m\n",
            "        \u001b[90m# Now look at which pairs of candidates one has a majority over the\u001b[39;49;00m\u001b[90m\u001b[39;49;00m\n",
            "        \u001b[90m# other and store that.\u001b[39;49;00m\u001b[90m\u001b[39;49;00m\n",
            "        graph = {}\u001b[90m\u001b[39;49;00m\n",
            "        \u001b[94mfor\u001b[39;49;00m i \u001b[95min\u001b[39;49;00m all_candidates:\u001b[90m\u001b[39;49;00m\n",
            "            \u001b[94mfor\u001b[39;49;00m j \u001b[95min\u001b[39;49;00m all_candidates:\u001b[90m\u001b[39;49;00m\n",
            "                \u001b[94mif\u001b[39;49;00m counts[(i, j)] > counts[(j, i)]:\u001b[90m\u001b[39;49;00m\n",
            "                    graph.setdefault(i, \u001b[96mset\u001b[39;49;00m()).add(j)\u001b[90m\u001b[39;49;00m\n",
            "    \u001b[90m\u001b[39;49;00m\n",
            "        \u001b[90m# Now for each triple assert that it is transitive.\u001b[39;49;00m\u001b[90m\u001b[39;49;00m\n",
            "        \u001b[94mfor\u001b[39;49;00m x \u001b[95min\u001b[39;49;00m all_candidates:\u001b[90m\u001b[39;49;00m\n",
            "            \u001b[94mfor\u001b[39;49;00m y \u001b[95min\u001b[39;49;00m graph.get(x, ()):\u001b[90m\u001b[39;49;00m\n",
            "                \u001b[94mfor\u001b[39;49;00m z \u001b[95min\u001b[39;49;00m graph.get(y, ()):\u001b[90m\u001b[39;49;00m\n",
            ">                   \u001b[94massert\u001b[39;49;00m x \u001b[95mnot\u001b[39;49;00m \u001b[95min\u001b[39;49;00m graph.get(z, ())\u001b[90m\u001b[39;49;00m\n",
            "\u001b[1m\u001b[31mE                   AssertionError: assert 'A' not in {'A'}\u001b[0m\n",
            "\u001b[1m\u001b[31mE                    +  where {'A'} = <built-in method get of dict object at 0x7f48d97e9e80>('B', ())\u001b[0m\n",
            "\u001b[1m\u001b[31mE                    +    where <built-in method get of dict object at 0x7f48d97e9e80> = {'A': {'C'}, 'B': {'A'}, 'C': {'B'}}.get\u001b[0m\n",
            "\u001b[1m\u001b[31mE                   Falsifying example: test_elections_are_transitive(\u001b[0m\n",
            "\u001b[1m\u001b[31mE                       election=[['A', 'C', 'B'],\u001b[0m\n",
            "\u001b[1m\u001b[31mE                        ['A', 'C', 'B'],\u001b[0m\n",
            "\u001b[1m\u001b[31mE                        ['B', 'A', 'C'],\u001b[0m\n",
            "\u001b[1m\u001b[31mE                        ['B', 'A', 'C'],\u001b[0m\n",
            "\u001b[1m\u001b[31mE                        ['C', 'B', 'A']],\u001b[0m\n",
            "\u001b[1m\u001b[31mE                   )\u001b[0m\n",
            "\n",
            "\u001b[1m\u001b[31mcondorcet_paradox.py\u001b[0m:33: AssertionError\n",
            "\u001b[36m\u001b[1m=========================== short test summary info ============================\u001b[0m\n",
            "\u001b[31mFAILED\u001b[0m condorcet_paradox.py::\u001b[1mtest_elections_are_transitive\u001b[0m - AssertionError: assert 'A' not in {'A'}\n",
            "\u001b[31m============================== \u001b[31m\u001b[1m1 failed\u001b[0m\u001b[31m in 0.72s\u001b[0m\u001b[31m ===============================\u001b[0m\n"
          ]
        }
      ]
    },
    {
      "cell_type": "markdown",
      "source": [
        "# Bonus: Writing Property Test code for us\n",
        "\n",
        "For certain types of functions, if we appropriately type them, we can have it construct some of the testing code for us. This becomes more powerful for more complex datastructures, and is aided by the use of typing as we will see below.\n",
        "\n",
        "(Note, this part requires the `!pip install hypothesis[cli]` at the beginning of the notebook.)\n",
        "\n",
        "Let's say we have a simple subtraction function:"
      ],
      "metadata": {
        "id": "tpf8R7Axofca"
      }
    },
    {
      "cell_type": "code",
      "source": [
        "def subtract(a,b):\n",
        "    return a-b"
      ],
      "metadata": {
        "id": "07YelZKGobWl"
      },
      "execution_count": null,
      "outputs": []
    },
    {
      "cell_type": "markdown",
      "source": [
        "We can ask Hypothesis to generate some tests for us for this function:"
      ],
      "metadata": {
        "id": "II7cwo8Y04dO"
      }
    },
    {
      "cell_type": "code",
      "source": [
        "!hypothesis write mark_math.subtract"
      ],
      "metadata": {
        "colab": {
          "base_uri": "https://localhost:8080/"
        },
        "id": "tUgCLF1UnXXc",
        "outputId": "9a716e62-bb48-4c30-bfb0-36aa2d0335dc"
      },
      "execution_count": null,
      "outputs": [
        {
          "output_type": "stream",
          "name": "stdout",
          "text": [
            "\u001b[90;49m# This test code was written by the `hypothesis.extra.ghostwriter` module\u001b[0m\n",
            "\u001b[90;49m# and is provided under the Creative Commons Zero public domain dedication.\u001b[0m\n",
            "\n",
            "\u001b[91;49mimport\u001b[0m\u001b[97;49m \u001b[0m\u001b[97;49mmark_math\u001b[0m\n",
            "\u001b[91;49mfrom\u001b[0m\u001b[97;49m \u001b[0m\u001b[97;49mhypothesis\u001b[0m\u001b[97;49m \u001b[0m\u001b[91;49mimport\u001b[0m\u001b[97;49m \u001b[0m\u001b[97;49mgiven\u001b[0m\u001b[97;49m,\u001b[0m\u001b[97;49m \u001b[0m\u001b[97;49mstrategies\u001b[0m\u001b[97;49m \u001b[0m\u001b[96;49mas\u001b[0m\u001b[97;49m \u001b[0m\u001b[97;49mst\u001b[0m\n",
            "\n",
            "\u001b[90;49m# TODO: replace st.nothing() with appropriate strategies\u001b[0m\n",
            "\n",
            "\n",
            "\u001b[92;49m@given\u001b[0m\u001b[97;49m(\u001b[0m\u001b[97;49ma\u001b[0m\u001b[91;49m=\u001b[0m\u001b[97;49mst\u001b[0m\u001b[91;49m.\u001b[0m\u001b[97;49mnothing\u001b[0m\u001b[97;49m(\u001b[0m\u001b[97;49m)\u001b[0m\u001b[97;49m,\u001b[0m\u001b[97;49m \u001b[0m\u001b[97;49mb\u001b[0m\u001b[91;49m=\u001b[0m\u001b[97;49mst\u001b[0m\u001b[91;49m.\u001b[0m\u001b[97;49mnothing\u001b[0m\u001b[97;49m(\u001b[0m\u001b[97;49m)\u001b[0m\u001b[97;49m)\u001b[0m\n",
            "\u001b[96;49mdef\u001b[0m\u001b[97;49m \u001b[0m\u001b[92;49mtest_fuzz_subtract\u001b[0m\u001b[97;49m(\u001b[0m\u001b[97;49ma\u001b[0m\u001b[97;49m,\u001b[0m\u001b[97;49m \u001b[0m\u001b[97;49mb\u001b[0m\u001b[97;49m)\u001b[0m\u001b[97;49m:\u001b[0m\n",
            "\u001b[97;49m    \u001b[0m\u001b[97;49mmark_math\u001b[0m\u001b[91;49m.\u001b[0m\u001b[97;49msubtract\u001b[0m\u001b[97;49m(\u001b[0m\u001b[97;49ma\u001b[0m\u001b[91;49m=\u001b[0m\u001b[97;49ma\u001b[0m\u001b[97;49m,\u001b[0m\u001b[97;49m \u001b[0m\u001b[97;49mb\u001b[0m\u001b[91;49m=\u001b[0m\u001b[97;49mb\u001b[0m\u001b[97;49m)\u001b[0m\n",
            "\n"
          ]
        }
      ]
    },
    {
      "cell_type": "markdown",
      "source": [
        "This is pretty disappointing, since it basically does nothing. Not very helpful! However, we didn't really give the library much information about the function. Here, we can use Python's typing system to provide some hints:"
      ],
      "metadata": {
        "id": "DEdq7J3j0-JP"
      }
    },
    {
      "cell_type": "code",
      "source": [
        "def subtract_wtypes(a: int, b: int):\n",
        "    return a-b"
      ],
      "metadata": {
        "id": "8LqbBf1u1Qz_"
      },
      "execution_count": null,
      "outputs": []
    },
    {
      "cell_type": "code",
      "source": [
        "!hypothesis write mark_math.subtract_wtypes > test_subtract.py"
      ],
      "metadata": {
        "id": "sHJuYjgsoMaS"
      },
      "execution_count": null,
      "outputs": []
    },
    {
      "cell_type": "code",
      "source": [
        "!pytest test_subtract.py"
      ],
      "metadata": {
        "colab": {
          "base_uri": "https://localhost:8080/"
        },
        "id": "1V-5PWU7fbYY",
        "outputId": "52d214d0-9746-4e90-b9c9-43a3ff9ab937"
      },
      "execution_count": null,
      "outputs": [
        {
          "output_type": "stream",
          "name": "stdout",
          "text": [
            "\u001b[1m============================= test session starts ==============================\u001b[0m\n",
            "platform linux -- Python 3.10.11, pytest-7.2.2, pluggy-1.0.0\n",
            "rootdir: /content\n",
            "plugins: hypothesis-6.76.0, anyio-3.6.2\n",
            "collected 3 items                                                              \u001b[0m\n",
            "\n",
            "test_subtract.py \u001b[31mF\u001b[0m\u001b[31mF\u001b[0m\u001b[31mF\u001b[0m\u001b[31m                                                     [100%]\u001b[0m\n",
            "\n",
            "=================================== FAILURES ===================================\n",
            "\u001b[31m\u001b[1m______________ test_associative_binary_operation_subtract_wtypes _______________\u001b[0m\n",
            "\n",
            "    \u001b[37m@given\u001b[39;49;00m(\u001b[90m\u001b[39;49;00m\n",
            ">       a=subtract_wtypes_operands, b=subtract_wtypes_operands, c=subtract_wtypes_operands\u001b[90m\u001b[39;49;00m\n",
            "    )\u001b[90m\u001b[39;49;00m\n",
            "\n",
            "\u001b[1m\u001b[31mtest_subtract.py\u001b[0m:11: \n",
            "_ _ _ _ _ _ _ _ _ _ _ _ _ _ _ _ _ _ _ _ _ _ _ _ _ _ _ _ _ _ _ _ _ _ _ _ _ _ _ _ \n",
            "\n",
            "a = 0.0, b = 0.0, c = 1.0\n",
            "\n",
            "    \u001b[37m@given\u001b[39;49;00m(\u001b[90m\u001b[39;49;00m\n",
            "        a=subtract_wtypes_operands, b=subtract_wtypes_operands, c=subtract_wtypes_operands\u001b[90m\u001b[39;49;00m\n",
            "    )\u001b[90m\u001b[39;49;00m\n",
            "    \u001b[94mdef\u001b[39;49;00m \u001b[92mtest_associative_binary_operation_subtract_wtypes\u001b[39;49;00m(a: \u001b[96mfloat\u001b[39;49;00m, b: \u001b[96mfloat\u001b[39;49;00m, c) -> \u001b[94mNone\u001b[39;49;00m:\u001b[90m\u001b[39;49;00m\n",
            "        left = mark_math.subtract_wtypes(a=a, b=mark_math.subtract_wtypes(a=b, b=c))\u001b[90m\u001b[39;49;00m\n",
            "        right = mark_math.subtract_wtypes(a=mark_math.subtract_wtypes(a=a, b=b), b=c)\u001b[90m\u001b[39;49;00m\n",
            ">       \u001b[94massert\u001b[39;49;00m left == right, (left, right)\u001b[90m\u001b[39;49;00m\n",
            "\u001b[1m\u001b[31mE       AssertionError: (1.0, -1.0)\u001b[0m\n",
            "\u001b[1m\u001b[31mE       assert 1.0 == -1.0\u001b[0m\n",
            "\u001b[1m\u001b[31mE       Falsifying example: test_associative_binary_operation_subtract_wtypes(\u001b[0m\n",
            "\u001b[1m\u001b[31mE           a=0.0,\u001b[0m\n",
            "\u001b[1m\u001b[31mE           b=0.0,\u001b[0m\n",
            "\u001b[1m\u001b[31mE           c=1.0,\u001b[0m\n",
            "\u001b[1m\u001b[31mE       )\u001b[0m\n",
            "\n",
            "\u001b[1m\u001b[31mtest_subtract.py\u001b[0m:16: AssertionError\n",
            "\u001b[31m\u001b[1m______________ test_commutative_binary_operation_subtract_wtypes _______________\u001b[0m\n",
            "\n",
            "    \u001b[37m@given\u001b[39;49;00m(a=subtract_wtypes_operands, b=subtract_wtypes_operands)\u001b[90m\u001b[39;49;00m\n",
            ">   \u001b[94mdef\u001b[39;49;00m \u001b[92mtest_commutative_binary_operation_subtract_wtypes\u001b[39;49;00m(a: \u001b[96mfloat\u001b[39;49;00m, b: \u001b[96mfloat\u001b[39;49;00m) -> \u001b[94mNone\u001b[39;49;00m:\u001b[90m\u001b[39;49;00m\n",
            "\n",
            "\u001b[1m\u001b[31mtest_subtract.py\u001b[0m:20: \n",
            "_ _ _ _ _ _ _ _ _ _ _ _ _ _ _ _ _ _ _ _ _ _ _ _ _ _ _ _ _ _ _ _ _ _ _ _ _ _ _ _ \n",
            "\n",
            "a = 0.0, b = 1.0\n",
            "\n",
            "    \u001b[37m@given\u001b[39;49;00m(a=subtract_wtypes_operands, b=subtract_wtypes_operands)\u001b[90m\u001b[39;49;00m\n",
            "    \u001b[94mdef\u001b[39;49;00m \u001b[92mtest_commutative_binary_operation_subtract_wtypes\u001b[39;49;00m(a: \u001b[96mfloat\u001b[39;49;00m, b: \u001b[96mfloat\u001b[39;49;00m) -> \u001b[94mNone\u001b[39;49;00m:\u001b[90m\u001b[39;49;00m\n",
            "        left = mark_math.subtract_wtypes(a=a, b=b)\u001b[90m\u001b[39;49;00m\n",
            "        right = mark_math.subtract_wtypes(a=b, b=a)\u001b[90m\u001b[39;49;00m\n",
            ">       \u001b[94massert\u001b[39;49;00m left == right, (left, right)\u001b[90m\u001b[39;49;00m\n",
            "\u001b[1m\u001b[31mE       AssertionError: (-1.0, 1.0)\u001b[0m\n",
            "\u001b[1m\u001b[31mE       assert -1.0 == 1.0\u001b[0m\n",
            "\u001b[1m\u001b[31mE       Falsifying example: test_commutative_binary_operation_subtract_wtypes(\u001b[0m\n",
            "\u001b[1m\u001b[31mE           a=0.0,\u001b[0m\n",
            "\u001b[1m\u001b[31mE           b=1.0,\u001b[0m\n",
            "\u001b[1m\u001b[31mE       )\u001b[0m\n",
            "\n",
            "\u001b[1m\u001b[31mtest_subtract.py\u001b[0m:23: AssertionError\n",
            "\u001b[31m\u001b[1m________________ test_identity_binary_operation_subtract_wtypes ________________\u001b[0m\n",
            "\n",
            "    \u001b[37m@given\u001b[39;49;00m(a=subtract_wtypes_operands)\u001b[90m\u001b[39;49;00m\n",
            ">   \u001b[94mdef\u001b[39;49;00m \u001b[92mtest_identity_binary_operation_subtract_wtypes\u001b[39;49;00m(a: \u001b[96mfloat\u001b[39;49;00m) -> \u001b[94mNone\u001b[39;49;00m:\u001b[90m\u001b[39;49;00m\n",
            "\n",
            "\u001b[1m\u001b[31mtest_subtract.py\u001b[0m:27: \n",
            "_ _ _ _ _ _ _ _ _ _ _ _ _ _ _ _ _ _ _ _ _ _ _ _ _ _ _ _ _ _ _ _ _ _ _ _ _ _ _ _ \n",
            "\n",
            "a = nan\n",
            "\n",
            "    \u001b[37m@given\u001b[39;49;00m(a=subtract_wtypes_operands)\u001b[90m\u001b[39;49;00m\n",
            "    \u001b[94mdef\u001b[39;49;00m \u001b[92mtest_identity_binary_operation_subtract_wtypes\u001b[39;49;00m(a: \u001b[96mfloat\u001b[39;49;00m) -> \u001b[94mNone\u001b[39;49;00m:\u001b[90m\u001b[39;49;00m\n",
            ">       \u001b[94massert\u001b[39;49;00m a == mark_math.subtract_wtypes(a=a, b=\u001b[94m0.0\u001b[39;49;00m)\u001b[90m\u001b[39;49;00m\n",
            "\u001b[1m\u001b[31mE       assert nan == nan\u001b[0m\n",
            "\u001b[1m\u001b[31mE        +  where nan = <function subtract_wtypes at 0x7fbafdfe9750>(a=nan, b=0.0)\u001b[0m\n",
            "\u001b[1m\u001b[31mE        +    where <function subtract_wtypes at 0x7fbafdfe9750> = mark_math.subtract_wtypes\u001b[0m\n",
            "\u001b[1m\u001b[31mE       Falsifying example: test_identity_binary_operation_subtract_wtypes(\u001b[0m\n",
            "\u001b[1m\u001b[31mE           a=nan,\u001b[0m\n",
            "\u001b[1m\u001b[31mE       )\u001b[0m\n",
            "\n",
            "\u001b[1m\u001b[31mtest_subtract.py\u001b[0m:28: AssertionError\n",
            "\u001b[36m\u001b[1m=========================== short test summary info ============================\u001b[0m\n",
            "\u001b[31mFAILED\u001b[0m test_subtract.py::\u001b[1mtest_associative_binary_operation_subtract_wtypes\u001b[0m - AssertionError: (1.0, -1.0)\n",
            "\u001b[31mFAILED\u001b[0m test_subtract.py::\u001b[1mtest_commutative_binary_operation_subtract_wtypes\u001b[0m - AssertionError: (-1.0, 1.0)\n",
            "\u001b[31mFAILED\u001b[0m test_subtract.py::\u001b[1mtest_identity_binary_operation_subtract_wtypes\u001b[0m - assert nan == nan\n",
            "\u001b[31m============================== \u001b[31m\u001b[1m3 failed\u001b[0m\u001b[31m in 0.78s\u001b[0m\u001b[31m ===============================\u001b[0m\n"
          ]
        }
      ]
    },
    {
      "cell_type": "markdown",
      "source": [
        "OK! Now we see that because we specified that the inputs were typed as integers, it can figure out that this `subtract_wtypes` functions needs to (1) be commutative, (2) be associative, and (3) have an identity function.\n",
        "\n",
        "Pretty cool. While this isn't terribly useful in this case, for more complex test cases this can rapidly help you cover anticipated test cases."
      ],
      "metadata": {
        "id": "_ztsU4pl1hg4"
      }
    }
  ]
}