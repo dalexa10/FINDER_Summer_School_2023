{
  "nbformat": 4,
  "nbformat_minor": 0,
  "metadata": {
    "colab": {
      "provenance": [],
      "include_colab_link": true
    },
    "kernelspec": {
      "name": "python3",
      "display_name": "Python 3"
    },
    "language_info": {
      "name": "python"
    }
  },
  "cells": [
    {
      "cell_type": "markdown",
      "metadata": {
        "id": "view-in-github",
        "colab_type": "text"
      },
      "source": [
        "<a href=\"https://colab.research.google.com/github/dalexa10/FINDER_Summer_School_2023/blob/main/3_Program_analysis_methods/Hypothesis_testing_tutorial.ipynb\" target=\"_parent\"><img src=\"https://colab.research.google.com/assets/colab-badge.svg\" alt=\"Open In Colab\"/></a>"
      ]
    },
    {
      "cell_type": "markdown",
      "source": [
        "# Hypothesis Tutorial for FinDeR Summer School\n",
        "\n",
        "originally created by Mark Fuge, 2023\n",
        "\n",
        "modified by Dario Rodriguez, 2023\n",
        "\n",
        "\n",
        "\n",
        "This notebook provides some initial examples of how to use the [Hypothesis Library](https://hypothesis.readthedocs.io/) to do simple testing of functions, from simple fuzz testing to property based testing. We will start with simple examples and then extend in complexity as we go.\n",
        "\n"
      ],
      "metadata": {
        "id": "F-Qgx1BrwmRx"
      }
    },
    {
      "cell_type": "code",
      "source": [
        "# Let's first install git to pull some files from github\n",
        "!apt-get install git -y"
      ],
      "metadata": {
        "id": "PDYS7ri88n4P",
        "outputId": "4021320b-dac8-4f24-a226-bb19969b7463",
        "colab": {
          "base_uri": "https://localhost:8080/"
        }
      },
      "execution_count": 15,
      "outputs": [
        {
          "output_type": "stream",
          "name": "stdout",
          "text": [
            "Reading package lists... Done\n",
            "Building dependency tree... Done\n",
            "Reading state information... Done\n",
            "git is already the newest version (1:2.34.1-1ubuntu1.9).\n",
            "0 upgraded, 0 newly installed, 0 to remove and 8 not upgraded.\n"
          ]
        }
      ]
    },
    {
      "cell_type": "code",
      "source": [
        "#!pip install hypothesis\n",
        "# Do the below instead if you want to test the optional auto-writing features\n",
        "!pip install hypothesis[cli]"
      ],
      "metadata": {
        "colab": {
          "base_uri": "https://localhost:8080/"
        },
        "id": "BNpUX3AexbGV",
        "outputId": "d648eadf-3085-4616-f446-5a73f4e0b6e3"
      },
      "execution_count": 35,
      "outputs": [
        {
          "output_type": "stream",
          "name": "stdout",
          "text": [
            "Requirement already satisfied: hypothesis[cli] in /usr/local/lib/python3.10/dist-packages (6.82.0)\n",
            "Requirement already satisfied: attrs>=19.2.0 in /usr/local/lib/python3.10/dist-packages (from hypothesis[cli]) (23.1.0)\n",
            "Requirement already satisfied: sortedcontainers<3.0.0,>=2.1.0 in /usr/local/lib/python3.10/dist-packages (from hypothesis[cli]) (2.4.0)\n",
            "Requirement already satisfied: exceptiongroup>=1.0.0 in /usr/local/lib/python3.10/dist-packages (from hypothesis[cli]) (1.1.2)\n",
            "Requirement already satisfied: click>=7.0 in /usr/local/lib/python3.10/dist-packages (from hypothesis[cli]) (8.1.6)\n",
            "Requirement already satisfied: black>=19.10b0 in /usr/local/lib/python3.10/dist-packages (from hypothesis[cli]) (23.7.0)\n",
            "Requirement already satisfied: rich>=9.0.0 in /usr/local/lib/python3.10/dist-packages (from hypothesis[cli]) (13.4.2)\n",
            "Requirement already satisfied: mypy-extensions>=0.4.3 in /usr/local/lib/python3.10/dist-packages (from black>=19.10b0->hypothesis[cli]) (1.0.0)\n",
            "Requirement already satisfied: packaging>=22.0 in /usr/local/lib/python3.10/dist-packages (from black>=19.10b0->hypothesis[cli]) (23.1)\n",
            "Requirement already satisfied: pathspec>=0.9.0 in /usr/local/lib/python3.10/dist-packages (from black>=19.10b0->hypothesis[cli]) (0.11.1)\n",
            "Requirement already satisfied: platformdirs>=2 in /usr/local/lib/python3.10/dist-packages (from black>=19.10b0->hypothesis[cli]) (3.9.1)\n",
            "Requirement already satisfied: tomli>=1.1.0 in /usr/local/lib/python3.10/dist-packages (from black>=19.10b0->hypothesis[cli]) (2.0.1)\n",
            "Requirement already satisfied: markdown-it-py>=2.2.0 in /usr/local/lib/python3.10/dist-packages (from rich>=9.0.0->hypothesis[cli]) (3.0.0)\n",
            "Requirement already satisfied: pygments<3.0.0,>=2.13.0 in /usr/local/lib/python3.10/dist-packages (from rich>=9.0.0->hypothesis[cli]) (2.14.0)\n",
            "Requirement already satisfied: mdurl~=0.1 in /usr/local/lib/python3.10/dist-packages (from markdown-it-py>=2.2.0->rich>=9.0.0->hypothesis[cli]) (0.1.2)\n"
          ]
        }
      ]
    },
    {
      "cell_type": "code",
      "source": [
        "from operator import add\n",
        "add(1,2) == 3\n",
        "add(2,2) == 4\n",
        "add(3,2) == 5"
      ],
      "metadata": {
        "colab": {
          "base_uri": "https://localhost:8080/"
        },
        "id": "3J2QzFHSW9jD",
        "outputId": "da10a3ce-18bf-43e0-999f-713eee264076"
      },
      "execution_count": 2,
      "outputs": [
        {
          "output_type": "execute_result",
          "data": {
            "text/plain": [
              "True"
            ]
          },
          "metadata": {},
          "execution_count": 2
        }
      ]
    },
    {
      "cell_type": "markdown",
      "source": [
        "How would we check whether the addition is happening correctly? We could do a simple test by asserting it is similar to some reference solution:"
      ],
      "metadata": {
        "id": "pZ8uAyv1gGh0"
      }
    },
    {
      "cell_type": "code",
      "source": [
        "def test_addition(a,b):\n",
        "    assert add(a,b) == a+b"
      ],
      "metadata": {
        "id": "wJMCfVqtwxF5"
      },
      "execution_count": 3,
      "outputs": []
    },
    {
      "cell_type": "markdown",
      "source": [
        "What kind of conditions would you run the above test against to check whether add was working properly?"
      ],
      "metadata": {
        "id": "IGpXiBjTw5_-"
      }
    },
    {
      "cell_type": "markdown",
      "source": [
        "Here is an example where there is a pretty bad and obvious bug in the code:"
      ],
      "metadata": {
        "id": "q4z0fwrxw0ca"
      }
    },
    {
      "cell_type": "code",
      "source": [
        "def bad_add(a,b):\n",
        "    if (b>500):\n",
        "        print(a,b)\n",
        "        return -1\n",
        "    else:\n",
        "        print(a,b)\n",
        "        return add(a,b)"
      ],
      "metadata": {
        "id": "kUH9iIYoX-0C"
      },
      "execution_count": 4,
      "outputs": []
    },
    {
      "cell_type": "markdown",
      "source": [
        "Let's actually write this down the normal way like we would do in a typical test (see tests_normal.py)"
      ],
      "metadata": {
        "id": "sLnjpjsUyNtv"
      }
    },
    {
      "cell_type": "code",
      "source": [
        "# Now let's pull the first file from GitHub, it's called test_normal.py\n",
        "!wget https://raw.githubusercontent.com/dalexa10/FINDER_Summer_School_2023/main/3_Program_analysis_methods/tests_normal.py"
      ],
      "metadata": {
        "id": "pSOM7hXH81Eq",
        "outputId": "70934a2e-299b-4090-992e-f54ac4319980",
        "colab": {
          "base_uri": "https://localhost:8080/"
        }
      },
      "execution_count": 17,
      "outputs": [
        {
          "output_type": "stream",
          "name": "stdout",
          "text": [
            "--2023-07-27 01:27:21--  https://raw.githubusercontent.com/dalexa10/FINDER_Summer_School_2023/main/3_Program_analysis_methods/tests_normal.py\n",
            "Resolving raw.githubusercontent.com (raw.githubusercontent.com)... 185.199.108.133, 185.199.109.133, 185.199.110.133, ...\n",
            "Connecting to raw.githubusercontent.com (raw.githubusercontent.com)|185.199.108.133|:443... connected.\n",
            "HTTP request sent, awaiting response... 200 OK\n",
            "Length: 526 [text/plain]\n",
            "Saving to: ‘tests_normal.py’\n",
            "\n",
            "\rtests_normal.py       0%[                    ]       0  --.-KB/s               \rtests_normal.py     100%[===================>]     526  --.-KB/s    in 0s      \n",
            "\n",
            "2023-07-27 01:27:21 (19.1 MB/s) - ‘tests_normal.py’ saved [526/526]\n",
            "\n"
          ]
        }
      ]
    },
    {
      "cell_type": "code",
      "source": [
        "!pytest tests_normal.py"
      ],
      "metadata": {
        "colab": {
          "base_uri": "https://localhost:8080/"
        },
        "id": "PEV0XkvVdHGW",
        "outputId": "02bd5cb5-a1af-40c4-fcd4-ee06f88a8b2f"
      },
      "execution_count": 18,
      "outputs": [
        {
          "output_type": "stream",
          "name": "stdout",
          "text": [
            "\u001b[1m============================= test session starts ==============================\u001b[0m\n",
            "platform linux -- Python 3.10.6, pytest-7.2.2, pluggy-1.2.0\n",
            "rootdir: /content\n",
            "plugins: hypothesis-6.82.0, anyio-3.7.1\n",
            "\u001b[1mcollecting ... \u001b[0m\u001b[1m\rcollected 2 items                                                              \u001b[0m\n",
            "\n",
            "tests_normal.py \u001b[32m.\u001b[0m\u001b[32m.\u001b[0m\u001b[32m                                                       [100%]\u001b[0m\n",
            "\n",
            "\u001b[32m============================== \u001b[32m\u001b[1m2 passed\u001b[0m\u001b[32m in 0.01s\u001b[0m\u001b[32m ===============================\u001b[0m\n"
          ]
        }
      ]
    },
    {
      "cell_type": "markdown",
      "source": [
        "# Using Property Based Testing instead of manually writing the tests down\n",
        "\n",
        "Here, we can use a library like Hypothesis to generate possible test cases."
      ],
      "metadata": {
        "id": "gRNUXwkByVt7"
      }
    },
    {
      "cell_type": "code",
      "source": [
        "from hypothesis import given\n",
        "from hypothesis.strategies import integers"
      ],
      "metadata": {
        "id": "28zMdPEAnjLN"
      },
      "execution_count": 19,
      "outputs": []
    },
    {
      "cell_type": "code",
      "source": [
        "from hypothesis.strategies import floats\n",
        "import numpy as np\n",
        "from hypothesis.extra.numpy import arrays\n",
        "# It can sample integers\n",
        "print(integers().example())\n",
        "\n",
        "# It can sample integers -- with some basic restrictions:\n",
        "print(integers(10, 20).example())\n",
        "\n",
        "# It can sample integers -- even with fairly complex restrictions\n",
        "# (e.g., Even numbers)\n",
        "print(integers().filter(lambda x: x % 2 == 0).example())\n",
        "\n",
        "# Or even NumPy objects\n",
        "print(arrays(dtype=np.float64,shape=(10,1)).example())\n",
        "# You can put some limits on these\n",
        "print(arrays(dtype=np.float64,shape=(10,1),\n",
        "             elements=floats(1,200)).example())\n"
      ],
      "metadata": {
        "colab": {
          "base_uri": "https://localhost:8080/"
        },
        "id": "tElltJQNniD2",
        "outputId": "41b5181f-c2f1-4f41-a7e4-840e734455d6"
      },
      "execution_count": 20,
      "outputs": [
        {
          "output_type": "stream",
          "name": "stdout",
          "text": [
            "-2613289582676000089\n",
            "20\n",
            "116\n",
            "[[-6.83622027e+016]\n",
            " [ 1.90000000e+000]\n",
            " [-2.22507386e-313]\n",
            " [ 9.99990000e-001]\n",
            " [             inf]\n",
            " [ 6.10351562e-005]\n",
            " [-1.17549435e-038]\n",
            " [ 5.96046448e-008]\n",
            " [ 1.51299151e-217]\n",
            " [             nan]]\n",
            "[[1.]\n",
            " [1.]\n",
            " [1.]\n",
            " [1.]\n",
            " [1.]\n",
            " [1.]\n",
            " [1.]\n",
            " [1.]\n",
            " [1.]\n",
            " [1.]]\n"
          ]
        }
      ]
    },
    {
      "cell_type": "code",
      "source": [
        "import hypothesis.strategies as st\n",
        "# Uncomment to see other options for things it can generate:\n",
        "print(dir(st))"
      ],
      "metadata": {
        "id": "02WYePd8sHmY",
        "colab": {
          "base_uri": "https://localhost:8080/"
        },
        "outputId": "40837e38-2449-4f15-9cd2-7344f47893b3"
      },
      "execution_count": 21,
      "outputs": [
        {
          "output_type": "stream",
          "name": "stdout",
          "text": [
            "['DataObject', 'DrawFn', 'SearchStrategy', '__all__', '__builtins__', '__cached__', '__doc__', '__file__', '__loader__', '__name__', '__package__', '__path__', '__spec__', '_internal', '_strategies', 'binary', 'booleans', 'builds', 'characters', 'complex_numbers', 'composite', 'data', 'dates', 'datetimes', 'decimals', 'deferred', 'dictionaries', 'emails', 'fixed_dictionaries', 'floats', 'fractions', 'from_regex', 'from_type', 'frozensets', 'functions', 'integers', 'ip_addresses', 'iterables', 'just', 'lists', 'none', 'nothing', 'one_of', 'permutations', 'random_module', 'randoms', 'recursive', 'register_type_strategy', 'runner', 'sampled_from', 'sets', 'shared', 'slices', 'text', 'timedeltas', 'times', 'timezone_keys', 'timezones', 'tuples', 'uuids']\n"
          ]
        }
      ]
    },
    {
      "cell_type": "markdown",
      "source": [
        "Now, instead of manually specifying the test cases, you can actually just specify a range of inputs and it will test things randomly within this range:"
      ],
      "metadata": {
        "id": "h5PvxJMlzQtO"
      }
    },
    {
      "cell_type": "code",
      "source": [
        "@given(a=integers(), b=integers())\n",
        "def test_addition(a,b):\n",
        "    assert bad_add(a,b) == a+b\n"
      ],
      "metadata": {
        "id": "wtUCU1XHUkMC"
      },
      "execution_count": 22,
      "outputs": []
    },
    {
      "cell_type": "markdown",
      "source": [
        "OK, now let's actually run the tests using something like pytest to actually get the failing examples (See tests_hypo.py), and let's print out what it is trying so that we can see what it is doing:"
      ],
      "metadata": {
        "id": "jtnMso9_gMue"
      }
    },
    {
      "cell_type": "code",
      "source": [
        "# Let's pull another file, this time is called test_hypo.py\n",
        "!wget https://raw.githubusercontent.com/dalexa10/FINDER_Summer_School_2023/main/3_Program_analysis_methods/tests_hypo.py"
      ],
      "metadata": {
        "id": "ytNpbIcJ9gaQ",
        "outputId": "fdbaf3c7-2a9c-4293-d6b0-3e690f16ad8e",
        "colab": {
          "base_uri": "https://localhost:8080/"
        }
      },
      "execution_count": 23,
      "outputs": [
        {
          "output_type": "stream",
          "name": "stdout",
          "text": [
            "--2023-07-27 01:29:09--  https://raw.githubusercontent.com/dalexa10/FINDER_Summer_School_2023/main/3_Program_analysis_methods/tests_hypo.py\n",
            "Resolving raw.githubusercontent.com (raw.githubusercontent.com)... 185.199.109.133, 185.199.111.133, 185.199.108.133, ...\n",
            "Connecting to raw.githubusercontent.com (raw.githubusercontent.com)|185.199.109.133|:443... connected.\n",
            "HTTP request sent, awaiting response... 200 OK\n",
            "Length: 1216 (1.2K) [text/plain]\n",
            "Saving to: ‘tests_hypo.py’\n",
            "\n",
            "tests_hypo.py       100%[===================>]   1.19K  --.-KB/s    in 0s      \n",
            "\n",
            "2023-07-27 01:29:09 (114 MB/s) - ‘tests_hypo.py’ saved [1216/1216]\n",
            "\n"
          ]
        }
      ]
    },
    {
      "cell_type": "code",
      "source": [
        "!pytest tests_hypo.py"
      ],
      "metadata": {
        "colab": {
          "base_uri": "https://localhost:8080/"
        },
        "id": "R8UWFHBHyCKA",
        "outputId": "7656e24f-8687-4d36-da6d-94dde38d7f26"
      },
      "execution_count": 24,
      "outputs": [
        {
          "output_type": "stream",
          "name": "stdout",
          "text": [
            "\u001b[1m============================= test session starts ==============================\u001b[0m\n",
            "platform linux -- Python 3.10.6, pytest-7.2.2, pluggy-1.2.0\n",
            "rootdir: /content\n",
            "plugins: hypothesis-6.82.0, anyio-3.7.1\n",
            "collected 2 items                                                              \u001b[0m\n",
            "\n",
            "tests_hypo.py \u001b[32m.\u001b[0m\u001b[31mF\u001b[0m\u001b[31m                                                         [100%]\u001b[0m\n",
            "\n",
            "=================================== FAILURES ===================================\n",
            "\u001b[31m\u001b[1m______________________________ test_bad_addition _______________________________\u001b[0m\n",
            "\n",
            "    \u001b[37m@given\u001b[39;49;00m(a=integers(), b=integers())\u001b[90m\u001b[39;49;00m\n",
            ">   \u001b[94mdef\u001b[39;49;00m \u001b[92mtest_bad_addition\u001b[39;49;00m(a,b):\u001b[90m\u001b[39;49;00m\n",
            "\n",
            "\u001b[1m\u001b[31mtests_hypo.py\u001b[0m:20: \n",
            "_ _ _ _ _ _ _ _ _ _ _ _ _ _ _ _ _ _ _ _ _ _ _ _ _ _ _ _ _ _ _ _ _ _ _ _ _ _ _ _ \n",
            "\n",
            "a = 0, b = -501\n",
            "\n",
            "    \u001b[37m@given\u001b[39;49;00m(a=integers(), b=integers())\u001b[90m\u001b[39;49;00m\n",
            "    \u001b[94mdef\u001b[39;49;00m \u001b[92mtest_bad_addition\u001b[39;49;00m(a,b):\u001b[90m\u001b[39;49;00m\n",
            ">       \u001b[94massert\u001b[39;49;00m bad_add(a,b) == a+b\u001b[90m\u001b[39;49;00m\n",
            "\u001b[1m\u001b[31mE       assert -1 == (0 + -501)\u001b[0m\n",
            "\u001b[1m\u001b[31mE        +  where -1 = bad_add(0, -501)\u001b[0m\n",
            "\u001b[1m\u001b[31mE       Falsifying example: test_bad_addition(\u001b[0m\n",
            "\u001b[1m\u001b[31mE           a=0,\u001b[0m\n",
            "\u001b[1m\u001b[31mE           b=-501,\u001b[0m\n",
            "\u001b[1m\u001b[31mE       )\u001b[0m\n",
            "\n",
            "\u001b[1m\u001b[31mtests_hypo.py\u001b[0m:21: AssertionError\n",
            "----------------------------- Captured stdout call -----------------------------\n",
            "0 0\n",
            "0 0\n",
            "0 0\n",
            "857 -17235\n",
            "-17235 -17235\n",
            "16201 -55\n",
            "-9 -93\n",
            "-9 -93\n",
            "30127 85\n",
            "85 85\n",
            "857 -17235\n",
            "857 -17235\n",
            "-17235 857\n",
            "857 0\n",
            "857 0\n",
            "857 -851\n",
            "857 -19\n",
            "857 -83\n",
            "857 -339\n",
            "857 106\n",
            "857 -425\n",
            "857 -850\n",
            "857 -849\n",
            "857 -848\n",
            "857 -847\n",
            "857 -846\n",
            "857 -841\n",
            "857 -831\n",
            "857 -811\n",
            "857 -771\n",
            "857 -691\n",
            "857 -531\n",
            "857 -211\n",
            "857 -371\n",
            "857 -451\n",
            "857 -491\n",
            "857 -511\n",
            "857 -501\n",
            "857 -496\n",
            "857 -499\n",
            "857 -500\n",
            "857 501\n",
            "857 -245\n",
            "857 125\n",
            "857 -117\n",
            "857 -250\n",
            "857 -1\n",
            "857 -117\n",
            "857 -1\n",
            "857 -117\n",
            "0 -501\n",
            "0 0\n",
            "0 0\n",
            "0 -245\n",
            "0 125\n",
            "0 -117\n",
            "0 -250\n",
            "0 -500\n",
            "0 501\n",
            "0 -1\n",
            "0 -501\n",
            "0 0\n",
            "0 0\n",
            "0 -245\n",
            "0 125\n",
            "0 -117\n",
            "0 -250\n",
            "0 -500\n",
            "0 501\n",
            "0 -1\n",
            "0 -117\n",
            "0 -1\n",
            "0 -117\n",
            "0 -2\n",
            "0 -501\n",
            "0 -384\n",
            "0 -245\n",
            "0 -388\n",
            "0 0\n",
            "0 0\n",
            "0 125\n",
            "0 -117\n",
            "0 -250\n",
            "0 -500\n",
            "0 501\n",
            "0 -501\n",
            "\u001b[36m\u001b[1m=========================== short test summary info ============================\u001b[0m\n",
            "\u001b[31mFAILED\u001b[0m tests_hypo.py::\u001b[1mtest_bad_addition\u001b[0m - assert -1 == (0 + -501)\n",
            "\u001b[31m========================= \u001b[31m\u001b[1m1 failed\u001b[0m, \u001b[32m1 passed\u001b[0m\u001b[31m in 1.14s\u001b[0m\u001b[31m ==========================\u001b[0m\n"
          ]
        }
      ]
    },
    {
      "cell_type": "markdown",
      "source": [
        "Great! We seem to have found the error. We can attempt to fix the bug now, and to make sure that we capture it in the future, we can tell Hypothesis to directly look for this bug next time:"
      ],
      "metadata": {
        "id": "heYZcad4h6jO"
      }
    },
    {
      "cell_type": "code",
      "source": [
        "from hypothesis import example\n",
        "@given(a=integers(), b=integers())\n",
        "@example(0,201)\n",
        "def test_bad_addition(a,b):\n",
        "    assert bad_add(a,b) == a+b"
      ],
      "metadata": {
        "id": "c4QhGg2JiIgk"
      },
      "execution_count": 25,
      "outputs": []
    },
    {
      "cell_type": "code",
      "source": [
        "!pytest tests_hypo.py"
      ],
      "metadata": {
        "colab": {
          "base_uri": "https://localhost:8080/"
        },
        "id": "8lFflG2NZjqd",
        "outputId": "e04fb31e-722a-4b50-f773-a737dd883587"
      },
      "execution_count": 26,
      "outputs": [
        {
          "output_type": "stream",
          "name": "stdout",
          "text": [
            "\u001b[1m============================= test session starts ==============================\u001b[0m\n",
            "platform linux -- Python 3.10.6, pytest-7.2.2, pluggy-1.2.0\n",
            "rootdir: /content\n",
            "plugins: hypothesis-6.82.0, anyio-3.7.1\n",
            "collected 2 items                                                              \u001b[0m\n",
            "\n",
            "tests_hypo.py \u001b[32m.\u001b[0m\u001b[31mF\u001b[0m\u001b[31m                                                         [100%]\u001b[0m\n",
            "\n",
            "=================================== FAILURES ===================================\n",
            "\u001b[31m\u001b[1m______________________________ test_bad_addition _______________________________\u001b[0m\n",
            "\n",
            "    \u001b[37m@given\u001b[39;49;00m(a=integers(), b=integers())\u001b[90m\u001b[39;49;00m\n",
            ">   \u001b[94mdef\u001b[39;49;00m \u001b[92mtest_bad_addition\u001b[39;49;00m(a,b):\u001b[90m\u001b[39;49;00m\n",
            "\n",
            "\u001b[1m\u001b[31mtests_hypo.py\u001b[0m:20: \n",
            "_ _ _ _ _ _ _ _ _ _ _ _ _ _ _ _ _ _ _ _ _ _ _ _ _ _ _ _ _ _ _ _ _ _ _ _ _ _ _ _ \n",
            "\n",
            "a = 0, b = -501\n",
            "\n",
            "    \u001b[37m@given\u001b[39;49;00m(a=integers(), b=integers())\u001b[90m\u001b[39;49;00m\n",
            "    \u001b[94mdef\u001b[39;49;00m \u001b[92mtest_bad_addition\u001b[39;49;00m(a,b):\u001b[90m\u001b[39;49;00m\n",
            ">       \u001b[94massert\u001b[39;49;00m bad_add(a,b) == a+b\u001b[90m\u001b[39;49;00m\n",
            "\u001b[1m\u001b[31mE       assert -1 == (0 + -501)\u001b[0m\n",
            "\u001b[1m\u001b[31mE        +  where -1 = bad_add(0, -501)\u001b[0m\n",
            "\u001b[1m\u001b[31mE       Falsifying example: test_bad_addition(\u001b[0m\n",
            "\u001b[1m\u001b[31mE           a=0,\u001b[0m\n",
            "\u001b[1m\u001b[31mE           b=-501,\u001b[0m\n",
            "\u001b[1m\u001b[31mE       )\u001b[0m\n",
            "\n",
            "\u001b[1m\u001b[31mtests_hypo.py\u001b[0m:21: AssertionError\n",
            "----------------------------- Captured stdout call -----------------------------\n",
            "0 -501\n",
            "857 -501\n",
            "857 -511\n",
            "857 -531\n",
            "857 -691\n",
            "857 -811\n",
            "857 -831\n",
            "857 -841\n",
            "857 -847\n",
            "857 -851\n",
            "0 -501\n",
            "0 0\n",
            "0 0\n",
            "0 0\n",
            "0 -245\n",
            "0 125\n",
            "0 -117\n",
            "0 -250\n",
            "0 -500\n",
            "0 501\n",
            "0 -1\n",
            "0 -117\n",
            "0 -2\n",
            "0 -384\n",
            "0 -388\n",
            "0 -501\n",
            "\u001b[36m\u001b[1m=========================== short test summary info ============================\u001b[0m\n",
            "\u001b[31mFAILED\u001b[0m tests_hypo.py::\u001b[1mtest_bad_addition\u001b[0m - assert -1 == (0 + -501)\n",
            "\u001b[31m========================= \u001b[31m\u001b[1m1 failed\u001b[0m, \u001b[32m1 passed\u001b[0m\u001b[31m in 0.52s\u001b[0m\u001b[31m ==========================\u001b[0m\n"
          ]
        }
      ]
    },
    {
      "cell_type": "markdown",
      "source": [
        "How many of these tests should we do? We can specify this via the `settings` decorator. Too few and we may not catch the error. Too many and we may take forever!"
      ],
      "metadata": {
        "id": "oiYhyJAcjAS5"
      }
    },
    {
      "cell_type": "code",
      "source": [
        "from hypothesis import settings\n",
        "@given(a=integers(), b=integers())\n",
        "@settings(max_examples=10)\n",
        "def test_bad_addition(a,b):\n",
        "    assert bad_add(a,b) == a+b"
      ],
      "metadata": {
        "id": "bSDo1VovjJVu"
      },
      "execution_count": 27,
      "outputs": []
    },
    {
      "cell_type": "markdown",
      "source": [
        "OK, fine, but what if my function will never really be dealing with extreme values like the crazy integers that we see here. Can't I make this more helpful by restricting it to just the range of values that I care about? Absolutely! We can just change the testing strategy:"
      ],
      "metadata": {
        "id": "HK7_TNZPj7Ru"
      }
    },
    {
      "cell_type": "code",
      "source": [
        "@given(a=integers(min_value=-500,max_value=500),\n",
        "       b=integers(min_value=-500,max_value=500))\n",
        "def test_bad_addition(a,b):\n",
        "    assert bad_add(a,b) == a+b"
      ],
      "metadata": {
        "id": "daTd3YKzkMS5"
      },
      "execution_count": 28,
      "outputs": []
    },
    {
      "cell_type": "markdown",
      "source": [
        "We can also change the type of testing strategy that we use:"
      ],
      "metadata": {
        "id": "bbNOJPR8kw-9"
      }
    },
    {
      "cell_type": "code",
      "source": [
        "from hypothesis.strategies import floats\n",
        "@given(a=floats(min_value=-500,max_value=500),\n",
        "       b=integers(min_value=-500,max_value=500))\n",
        "def test_bad_addition(a,b):\n",
        "    assert bad_add(a,b) == a+b"
      ],
      "metadata": {
        "id": "4kO9pHmtk1VU"
      },
      "execution_count": 29,
      "outputs": []
    },
    {
      "cell_type": "markdown",
      "source": [
        "# A (slightly) more complex example\n",
        "\n",
        "We'll test a couple of functions to see if we can identify cases where they are not their own inverse (i.e., where $f(f(x)) = x$)"
      ],
      "metadata": {
        "id": "UhFYV6ARs9Ix"
      }
    },
    {
      "cell_type": "code",
      "source": [
        "# Check whether a function is it's own inverse\n",
        "def check_inverse(f,x):\n",
        "    assert f(f(x)) == x"
      ],
      "metadata": {
        "id": "tWRKEu0dtEkO"
      },
      "execution_count": 30,
      "outputs": []
    },
    {
      "cell_type": "code",
      "source": [
        "# Here we go, pulling yet another file\n",
        "!wget https://raw.githubusercontent.com/dalexa10/FINDER_Summer_School_2023/main/3_Program_analysis_methods/test_inverse.py"
      ],
      "metadata": {
        "id": "0NfBkxC7_ORb",
        "outputId": "1fe3519a-751b-4515-9456-edc821ab6d7a",
        "colab": {
          "base_uri": "https://localhost:8080/"
        }
      },
      "execution_count": 31,
      "outputs": [
        {
          "output_type": "stream",
          "name": "stdout",
          "text": [
            "--2023-07-27 01:36:04--  https://raw.githubusercontent.com/dalexa10/FINDER_Summer_School_2023/main/3_Program_analysis_methods/test_inverse.py\n",
            "Resolving raw.githubusercontent.com (raw.githubusercontent.com)... 185.199.108.133, 185.199.109.133, 185.199.110.133, ...\n",
            "Connecting to raw.githubusercontent.com (raw.githubusercontent.com)|185.199.108.133|:443... connected.\n",
            "HTTP request sent, awaiting response... 200 OK\n",
            "Length: 447 [text/plain]\n",
            "Saving to: ‘test_inverse.py’\n",
            "\n",
            "\rtest_inverse.py       0%[                    ]       0  --.-KB/s               \rtest_inverse.py     100%[===================>]     447  --.-KB/s    in 0s      \n",
            "\n",
            "2023-07-27 01:36:04 (6.11 MB/s) - ‘test_inverse.py’ saved [447/447]\n",
            "\n"
          ]
        }
      ]
    },
    {
      "cell_type": "code",
      "source": [
        "!pytest test_inverse.py"
      ],
      "metadata": {
        "colab": {
          "base_uri": "https://localhost:8080/"
        },
        "id": "YccOMvAFt4fO",
        "outputId": "e2958895-7dbb-43a8-9a64-cf80a3015ea4"
      },
      "execution_count": 32,
      "outputs": [
        {
          "output_type": "stream",
          "name": "stdout",
          "text": [
            "\u001b[1m============================= test session starts ==============================\u001b[0m\n",
            "platform linux -- Python 3.10.6, pytest-7.2.2, pluggy-1.2.0\n",
            "rootdir: /content\n",
            "plugins: hypothesis-6.82.0, anyio-3.7.1\n",
            "collected 3 items                                                              \u001b[0m\n",
            "\n",
            "test_inverse.py \u001b[32m.\u001b[0m\u001b[31mF\u001b[0m\u001b[31mF\u001b[0m\u001b[31m                                                      [100%]\u001b[0m\n",
            "\n",
            "=================================== FAILURES ===================================\n",
            "\u001b[31m\u001b[1m___________________________________ test_1x ____________________________________\u001b[0m\n",
            "\n",
            "    \u001b[37m@given\u001b[39;49;00m(x = floats(allow_nan=\u001b[94mFalse\u001b[39;49;00m))\u001b[90m\u001b[39;49;00m\n",
            ">   \u001b[94mdef\u001b[39;49;00m \u001b[92mtest_1x\u001b[39;49;00m(x):\u001b[90m\u001b[39;49;00m\n",
            "\n",
            "\u001b[1m\u001b[31mtest_inverse.py\u001b[0m:13: \n",
            "_ _ _ _ _ _ _ _ _ _ _ _ _ _ _ _ _ _ _ _ _ _ _ _ _ _ _ _ _ _ _ _ _ _ _ _ _ _ _ _ \n",
            "\u001b[1m\u001b[31mtest_inverse.py\u001b[0m:15: in test_1x\n",
            "    check_inverse(f,x)\u001b[90m\u001b[39;49;00m\n",
            "\u001b[1m\u001b[31mtest_inverse.py\u001b[0m:5: in check_inverse\n",
            "    \u001b[94massert\u001b[39;49;00m f(f(x)) == x\u001b[90m\u001b[39;49;00m\n",
            "_ _ _ _ _ _ _ _ _ _ _ _ _ _ _ _ _ _ _ _ _ _ _ _ _ _ _ _ _ _ _ _ _ _ _ _ _ _ _ _ \n",
            "\n",
            "a = 0.0\n",
            "\n",
            ">   f = \u001b[94mlambda\u001b[39;49;00m a: \u001b[94m1\u001b[39;49;00m/x\u001b[90m\u001b[39;49;00m\n",
            "\u001b[1m\u001b[31mE   ZeroDivisionError: float division by zero\u001b[0m\n",
            "\u001b[1m\u001b[31mE   Falsifying example: test_1x(\u001b[0m\n",
            "\u001b[1m\u001b[31mE       x=0.0,\u001b[0m\n",
            "\u001b[1m\u001b[31mE   )\u001b[0m\n",
            "\n",
            "\u001b[1m\u001b[31mtest_inverse.py\u001b[0m:14: ZeroDivisionError\n",
            "\u001b[31m\u001b[1m____________________________________ test_3 ____________________________________\u001b[0m\n",
            "\n",
            "    \u001b[37m@given\u001b[39;49;00m(x = floats(allow_nan=\u001b[94mFalse\u001b[39;49;00m))\u001b[90m\u001b[39;49;00m\n",
            ">   \u001b[94mdef\u001b[39;49;00m \u001b[92mtest_3\u001b[39;49;00m(x):\u001b[90m\u001b[39;49;00m\n",
            "\n",
            "\u001b[1m\u001b[31mtest_inverse.py\u001b[0m:18: \n",
            "_ _ _ _ _ _ _ _ _ _ _ _ _ _ _ _ _ _ _ _ _ _ _ _ _ _ _ _ _ _ _ _ _ _ _ _ _ _ _ _ \n",
            "\u001b[1m\u001b[31mtest_inverse.py\u001b[0m:20: in test_3\n",
            "    check_inverse(f,x)\u001b[90m\u001b[39;49;00m\n",
            "\u001b[1m\u001b[31mtest_inverse.py\u001b[0m:5: in check_inverse\n",
            "    \u001b[94massert\u001b[39;49;00m f(f(x)) == x\u001b[90m\u001b[39;49;00m\n",
            "_ _ _ _ _ _ _ _ _ _ _ _ _ _ _ _ _ _ _ _ _ _ _ _ _ _ _ _ _ _ _ _ _ _ _ _ _ _ _ _ \n",
            "\n",
            "a = 1.0\n",
            "\n",
            ">   f = \u001b[94mlambda\u001b[39;49;00m a: a/(a-\u001b[94m1\u001b[39;49;00m)\u001b[90m\u001b[39;49;00m\n",
            "\u001b[1m\u001b[31mE   ZeroDivisionError: float division by zero\u001b[0m\n",
            "\u001b[1m\u001b[31mE   Falsifying example: test_3(\u001b[0m\n",
            "\u001b[1m\u001b[31mE       x=1.0,\u001b[0m\n",
            "\u001b[1m\u001b[31mE   )\u001b[0m\n",
            "\n",
            "\u001b[1m\u001b[31mtest_inverse.py\u001b[0m:19: ZeroDivisionError\n",
            "\u001b[36m\u001b[1m=========================== short test summary info ============================\u001b[0m\n",
            "\u001b[31mFAILED\u001b[0m test_inverse.py::\u001b[1mtest_1x\u001b[0m - ZeroDivisionError: float division by zero\n",
            "\u001b[31mFAILED\u001b[0m test_inverse.py::\u001b[1mtest_3\u001b[0m - ZeroDivisionError: float division by zero\n",
            "\u001b[31m========================= \u001b[31m\u001b[1m2 failed\u001b[0m, \u001b[32m1 passed\u001b[0m\u001b[31m in 1.91s\u001b[0m\u001b[31m ==========================\u001b[0m\n"
          ]
        }
      ]
    },
    {
      "cell_type": "markdown",
      "source": [
        "# A More Design/Engineering example: Detecting Logical Paradoxes\n",
        "\n",
        "This example is taken directly from the [Hypothesis documentation](https://hypothesis.readthedocs.io/en/latest/examples.html#condorcet-s-paradox), wherein we can automatically discover a subtle paradox in social choice theory/voting called the [Condorcet Paradox](https://en.wikipedia.org/wiki/Condorcet_paradox). In this, we can find a case that breaks the formal property that a given voting system's preferences should be transitive. (See `condorcet_paradox.py`)"
      ],
      "metadata": {
        "id": "Fn8LMPTE2K-u"
      }
    },
    {
      "cell_type": "code",
      "source": [
        "# Yet another .py file\n",
        "!wget https://raw.githubusercontent.com/dalexa10/FINDER_Summer_School_2023/main/3_Program_analysis_methods/condorcet_paradox.py"
      ],
      "metadata": {
        "id": "gpFjwilrD-fs",
        "outputId": "0ae3651b-ba9a-4922-e69f-1b4b071b62b4",
        "colab": {
          "base_uri": "https://localhost:8080/"
        }
      },
      "execution_count": 41,
      "outputs": [
        {
          "output_type": "stream",
          "name": "stdout",
          "text": [
            "--2023-07-27 01:57:04--  https://raw.githubusercontent.com/dalexa10/FINDER_Summer_School_2023/main/3_Program_analysis_methods/condorcet_paradox.py\n",
            "Resolving raw.githubusercontent.com (raw.githubusercontent.com)... 185.199.108.133, 185.199.109.133, 185.199.110.133, ...\n",
            "Connecting to raw.githubusercontent.com (raw.githubusercontent.com)|185.199.108.133|:443... connected.\n",
            "HTTP request sent, awaiting response... 200 OK\n",
            "Length: 1189 (1.2K) [text/plain]\n",
            "Saving to: ‘condorcet_paradox.py’\n",
            "\n",
            "\rcondorcet_paradox.p   0%[                    ]       0  --.-KB/s               \rcondorcet_paradox.p 100%[===================>]   1.16K  --.-KB/s    in 0s      \n",
            "\n",
            "2023-07-27 01:57:04 (88.9 MB/s) - ‘condorcet_paradox.py’ saved [1189/1189]\n",
            "\n"
          ]
        }
      ]
    },
    {
      "cell_type": "code",
      "source": [
        "!pytest condorcet_paradox.py"
      ],
      "metadata": {
        "colab": {
          "base_uri": "https://localhost:8080/"
        },
        "id": "FcalovY-3KuK",
        "outputId": "b012eaf1-9e4b-45ff-d386-1b2582e0f03a"
      },
      "execution_count": 42,
      "outputs": [
        {
          "output_type": "stream",
          "name": "stdout",
          "text": [
            "\u001b[1m============================= test session starts ==============================\u001b[0m\n",
            "platform linux -- Python 3.10.6, pytest-7.2.2, pluggy-1.2.0\n",
            "rootdir: /content\n",
            "plugins: hypothesis-6.82.0, anyio-3.7.1\n",
            "collected 1 item                                                               \u001b[0m\n",
            "\n",
            "condorcet_paradox.py \u001b[31mF\u001b[0m\u001b[31m                                                   [100%]\u001b[0m\n",
            "\n",
            "=================================== FAILURES ===================================\n",
            "\u001b[31m\u001b[1m________________________ test_elections_are_transitive _________________________\u001b[0m\n",
            "\n",
            "    \u001b[37m@given\u001b[39;49;00m(lists(permutations([\u001b[33m\"\u001b[39;49;00m\u001b[33mA\u001b[39;49;00m\u001b[33m\"\u001b[39;49;00m, \u001b[33m\"\u001b[39;49;00m\u001b[33mB\u001b[39;49;00m\u001b[33m\"\u001b[39;49;00m, \u001b[33m\"\u001b[39;49;00m\u001b[33mC\u001b[39;49;00m\u001b[33m\"\u001b[39;49;00m]), min_size=\u001b[94m3\u001b[39;49;00m))\u001b[90m\u001b[39;49;00m\n",
            ">   \u001b[94mdef\u001b[39;49;00m \u001b[92mtest_elections_are_transitive\u001b[39;49;00m(election):\u001b[90m\u001b[39;49;00m\n",
            "\n",
            "\u001b[1m\u001b[31mcondorcet_paradox.py\u001b[0m:10: \n",
            "_ _ _ _ _ _ _ _ _ _ _ _ _ _ _ _ _ _ _ _ _ _ _ _ _ _ _ _ _ _ _ _ _ _ _ _ _ _ _ _ \n",
            "\n",
            "election = [['A', 'B', 'C'], ['B', 'C', 'A'], ['C', 'A', 'B']]\n",
            "\n",
            "    \u001b[37m@given\u001b[39;49;00m(lists(permutations([\u001b[33m\"\u001b[39;49;00m\u001b[33mA\u001b[39;49;00m\u001b[33m\"\u001b[39;49;00m, \u001b[33m\"\u001b[39;49;00m\u001b[33mB\u001b[39;49;00m\u001b[33m\"\u001b[39;49;00m, \u001b[33m\"\u001b[39;49;00m\u001b[33mC\u001b[39;49;00m\u001b[33m\"\u001b[39;49;00m]), min_size=\u001b[94m3\u001b[39;49;00m))\u001b[90m\u001b[39;49;00m\n",
            "    \u001b[94mdef\u001b[39;49;00m \u001b[92mtest_elections_are_transitive\u001b[39;49;00m(election):\u001b[90m\u001b[39;49;00m\n",
            "        all_candidates = {\u001b[33m\"\u001b[39;49;00m\u001b[33mA\u001b[39;49;00m\u001b[33m\"\u001b[39;49;00m, \u001b[33m\"\u001b[39;49;00m\u001b[33mB\u001b[39;49;00m\u001b[33m\"\u001b[39;49;00m, \u001b[33m\"\u001b[39;49;00m\u001b[33mC\u001b[39;49;00m\u001b[33m\"\u001b[39;49;00m}\u001b[90m\u001b[39;49;00m\n",
            "    \u001b[90m\u001b[39;49;00m\n",
            "        \u001b[90m# First calculate the pairwise counts of how many prefer each candidate\u001b[39;49;00m\u001b[90m\u001b[39;49;00m\n",
            "        \u001b[90m# to the other\u001b[39;49;00m\u001b[90m\u001b[39;49;00m\n",
            "        counts = Counter()\u001b[90m\u001b[39;49;00m\n",
            "        \u001b[94mfor\u001b[39;49;00m vote \u001b[95min\u001b[39;49;00m election:\u001b[90m\u001b[39;49;00m\n",
            "            \u001b[94mfor\u001b[39;49;00m i \u001b[95min\u001b[39;49;00m \u001b[96mrange\u001b[39;49;00m(\u001b[96mlen\u001b[39;49;00m(vote)):\u001b[90m\u001b[39;49;00m\n",
            "                \u001b[94mfor\u001b[39;49;00m j \u001b[95min\u001b[39;49;00m \u001b[96mrange\u001b[39;49;00m(i + \u001b[94m1\u001b[39;49;00m, \u001b[96mlen\u001b[39;49;00m(vote)):\u001b[90m\u001b[39;49;00m\n",
            "                    counts[(vote[i], vote[j])] += \u001b[94m1\u001b[39;49;00m\u001b[90m\u001b[39;49;00m\n",
            "    \u001b[90m\u001b[39;49;00m\n",
            "        \u001b[90m# Now look at which pairs of candidates one has a majority over the\u001b[39;49;00m\u001b[90m\u001b[39;49;00m\n",
            "        \u001b[90m# other and store that.\u001b[39;49;00m\u001b[90m\u001b[39;49;00m\n",
            "        graph = {}\u001b[90m\u001b[39;49;00m\n",
            "        \u001b[94mfor\u001b[39;49;00m i \u001b[95min\u001b[39;49;00m all_candidates:\u001b[90m\u001b[39;49;00m\n",
            "            \u001b[94mfor\u001b[39;49;00m j \u001b[95min\u001b[39;49;00m all_candidates:\u001b[90m\u001b[39;49;00m\n",
            "                \u001b[94mif\u001b[39;49;00m counts[(i, j)] > counts[(j, i)]:\u001b[90m\u001b[39;49;00m\n",
            "                    graph.setdefault(i, \u001b[96mset\u001b[39;49;00m()).add(j)\u001b[90m\u001b[39;49;00m\n",
            "    \u001b[90m\u001b[39;49;00m\n",
            "        \u001b[90m# Now for each triple assert that it is transitive.\u001b[39;49;00m\u001b[90m\u001b[39;49;00m\n",
            "        \u001b[94mfor\u001b[39;49;00m x \u001b[95min\u001b[39;49;00m all_candidates:\u001b[90m\u001b[39;49;00m\n",
            "            \u001b[94mfor\u001b[39;49;00m y \u001b[95min\u001b[39;49;00m graph.get(x, ()):\u001b[90m\u001b[39;49;00m\n",
            "                \u001b[94mfor\u001b[39;49;00m z \u001b[95min\u001b[39;49;00m graph.get(y, ()):\u001b[90m\u001b[39;49;00m\n",
            ">                   \u001b[94massert\u001b[39;49;00m x \u001b[95mnot\u001b[39;49;00m \u001b[95min\u001b[39;49;00m graph.get(z, ())\u001b[90m\u001b[39;49;00m\n",
            "\u001b[1m\u001b[31mE                   AssertionError: assert 'B' not in {'B'}\u001b[0m\n",
            "\u001b[1m\u001b[31mE                    +  where {'B'} = <built-in method get of dict object at 0x7992507b1280>('A', ())\u001b[0m\n",
            "\u001b[1m\u001b[31mE                    +    where <built-in method get of dict object at 0x7992507b1280> = {'A': {'B'}, 'B': {'C'}, 'C': {'A'}}.get\u001b[0m\n",
            "\u001b[1m\u001b[31mE                   Falsifying example: test_elections_are_transitive(\u001b[0m\n",
            "\u001b[1m\u001b[31mE                       election=[['A', 'B', 'C'], ['B', 'C', 'A'], ['C', 'A', 'B']],\u001b[0m\n",
            "\u001b[1m\u001b[31mE                   )\u001b[0m\n",
            "\n",
            "\u001b[1m\u001b[31mcondorcet_paradox.py\u001b[0m:33: AssertionError\n",
            "\u001b[36m\u001b[1m=========================== short test summary info ============================\u001b[0m\n",
            "\u001b[31mFAILED\u001b[0m condorcet_paradox.py::\u001b[1mtest_elections_are_transitive\u001b[0m - AssertionError: assert 'B' not in {'B'}\n",
            "\u001b[31m============================== \u001b[31m\u001b[1m1 failed\u001b[0m\u001b[31m in 0.73s\u001b[0m\u001b[31m ===============================\u001b[0m\n"
          ]
        }
      ]
    },
    {
      "cell_type": "markdown",
      "source": [
        "# Bonus: Writing Property Test code for us\n",
        "\n",
        "For certain types of functions, if we appropriately type them, we can have it construct some of the testing code for us. This becomes more powerful for more complex datastructures, and is aided by the use of typing as we will see below.\n",
        "\n",
        "(Note, this part requires the `!pip install hypothesis[cli]` at the beginning of the notebook.)\n",
        "\n",
        "Let's say we have a simple subtraction function:"
      ],
      "metadata": {
        "id": "tpf8R7Axofca"
      }
    },
    {
      "cell_type": "code",
      "source": [
        "def subtract(a,b):\n",
        "    return a-b"
      ],
      "metadata": {
        "id": "07YelZKGobWl"
      },
      "execution_count": 33,
      "outputs": []
    },
    {
      "cell_type": "markdown",
      "source": [
        "We can ask Hypothesis to generate some tests for us for this function:"
      ],
      "metadata": {
        "id": "II7cwo8Y04dO"
      }
    },
    {
      "cell_type": "code",
      "source": [
        "# Last .py file pulled ...\n",
        "!wget https://raw.githubusercontent.com/dalexa10/FINDER_Summer_School_2023/main/3_Program_analysis_methods/mark_math.py"
      ],
      "metadata": {
        "id": "9XIVIDoEDrzC",
        "outputId": "f84f3a18-0275-446b-9ff6-654c1033c935",
        "colab": {
          "base_uri": "https://localhost:8080/"
        }
      },
      "execution_count": 36,
      "outputs": [
        {
          "output_type": "stream",
          "name": "stdout",
          "text": [
            "--2023-07-27 01:56:08--  https://raw.githubusercontent.com/dalexa10/FINDER_Summer_School_2023/main/3_Program_analysis_methods/mark_math.py\n",
            "Resolving raw.githubusercontent.com (raw.githubusercontent.com)... 185.199.108.133, 185.199.109.133, 185.199.110.133, ...\n",
            "Connecting to raw.githubusercontent.com (raw.githubusercontent.com)|185.199.108.133|:443... connected.\n",
            "HTTP request sent, awaiting response... 200 OK\n",
            "Length: 95 [text/plain]\n",
            "Saving to: ‘mark_math.py’\n",
            "\n",
            "\rmark_math.py          0%[                    ]       0  --.-KB/s               \rmark_math.py        100%[===================>]      95  --.-KB/s    in 0s      \n",
            "\n",
            "2023-07-27 01:56:08 (7.23 MB/s) - ‘mark_math.py’ saved [95/95]\n",
            "\n"
          ]
        }
      ]
    },
    {
      "cell_type": "code",
      "source": [
        "!hypothesis write mark_math.subtract"
      ],
      "metadata": {
        "colab": {
          "base_uri": "https://localhost:8080/"
        },
        "id": "tUgCLF1UnXXc",
        "outputId": "82b9a3e8-890f-4dd8-fccf-16a61adde56a"
      },
      "execution_count": 37,
      "outputs": [
        {
          "output_type": "stream",
          "name": "stdout",
          "text": [
            "\u001b[90;49m# This test code was written by the `hypothesis.extra.ghostwriter` module\u001b[0m\n",
            "\u001b[90;49m# and is provided under the Creative Commons Zero public domain dedication.\u001b[0m\n",
            "\n",
            "\u001b[91;49mimport\u001b[0m\u001b[97;49m \u001b[0m\u001b[97;49mmark_math\u001b[0m\n",
            "\u001b[91;49mfrom\u001b[0m\u001b[97;49m \u001b[0m\u001b[97;49mhypothesis\u001b[0m\u001b[97;49m \u001b[0m\u001b[91;49mimport\u001b[0m\u001b[97;49m \u001b[0m\u001b[97;49mgiven\u001b[0m\u001b[97;49m,\u001b[0m\u001b[97;49m \u001b[0m\u001b[97;49mstrategies\u001b[0m\u001b[97;49m \u001b[0m\u001b[96;49mas\u001b[0m\u001b[97;49m \u001b[0m\u001b[97;49mst\u001b[0m\n",
            "\n",
            "\u001b[90;49m# TODO: replace st.nothing() with appropriate strategies\u001b[0m\n",
            "\n",
            "\n",
            "\u001b[92;49m@given\u001b[0m\u001b[97;49m(\u001b[0m\u001b[97;49ma\u001b[0m\u001b[91;49m=\u001b[0m\u001b[97;49mst\u001b[0m\u001b[91;49m.\u001b[0m\u001b[97;49mnothing\u001b[0m\u001b[97;49m(\u001b[0m\u001b[97;49m)\u001b[0m\u001b[97;49m,\u001b[0m\u001b[97;49m \u001b[0m\u001b[97;49mb\u001b[0m\u001b[91;49m=\u001b[0m\u001b[97;49mst\u001b[0m\u001b[91;49m.\u001b[0m\u001b[97;49mnothing\u001b[0m\u001b[97;49m(\u001b[0m\u001b[97;49m)\u001b[0m\u001b[97;49m)\u001b[0m\n",
            "\u001b[96;49mdef\u001b[0m\u001b[97;49m \u001b[0m\u001b[92;49mtest_fuzz_subtract\u001b[0m\u001b[97;49m(\u001b[0m\u001b[97;49ma\u001b[0m\u001b[97;49m,\u001b[0m\u001b[97;49m \u001b[0m\u001b[97;49mb\u001b[0m\u001b[97;49m)\u001b[0m\u001b[97;49m:\u001b[0m\n",
            "\u001b[97;49m    \u001b[0m\u001b[97;49mmark_math\u001b[0m\u001b[91;49m.\u001b[0m\u001b[97;49msubtract\u001b[0m\u001b[97;49m(\u001b[0m\u001b[97;49ma\u001b[0m\u001b[91;49m=\u001b[0m\u001b[97;49ma\u001b[0m\u001b[97;49m,\u001b[0m\u001b[97;49m \u001b[0m\u001b[97;49mb\u001b[0m\u001b[91;49m=\u001b[0m\u001b[97;49mb\u001b[0m\u001b[97;49m)\u001b[0m\n",
            "\n"
          ]
        }
      ]
    },
    {
      "cell_type": "markdown",
      "source": [
        "This is pretty disappointing, since it basically does nothing. Not very helpful! However, we didn't really give the library much information about the function. Here, we can use Python's typing system to provide some hints:"
      ],
      "metadata": {
        "id": "DEdq7J3j0-JP"
      }
    },
    {
      "cell_type": "code",
      "source": [
        "def subtract_wtypes(a: int, b: int):\n",
        "    return a-b"
      ],
      "metadata": {
        "id": "8LqbBf1u1Qz_"
      },
      "execution_count": 38,
      "outputs": []
    },
    {
      "cell_type": "code",
      "source": [
        "!hypothesis write mark_math.subtract_wtypes > test_subtract.py"
      ],
      "metadata": {
        "id": "sHJuYjgsoMaS"
      },
      "execution_count": 39,
      "outputs": []
    },
    {
      "cell_type": "code",
      "source": [
        "!pytest test_subtract.py"
      ],
      "metadata": {
        "colab": {
          "base_uri": "https://localhost:8080/"
        },
        "id": "1V-5PWU7fbYY",
        "outputId": "15656b12-c118-4563-9820-814e76dbc04e"
      },
      "execution_count": 40,
      "outputs": [
        {
          "output_type": "stream",
          "name": "stdout",
          "text": [
            "\u001b[1m============================= test session starts ==============================\u001b[0m\n",
            "platform linux -- Python 3.10.6, pytest-7.2.2, pluggy-1.2.0\n",
            "rootdir: /content\n",
            "plugins: hypothesis-6.82.0, anyio-3.7.1\n",
            "collected 3 items                                                              \u001b[0m\n",
            "\n",
            "test_subtract.py \u001b[31mF\u001b[0m\u001b[31mF\u001b[0m\u001b[32m.\u001b[0m\u001b[31m                                                     [100%]\u001b[0m\n",
            "\n",
            "=================================== FAILURES ===================================\n",
            "\u001b[31m\u001b[1m______________ test_associative_binary_operation_subtract_wtypes _______________\u001b[0m\n",
            "\n",
            "    \u001b[37m@given\u001b[39;49;00m(\u001b[90m\u001b[39;49;00m\n",
            ">       a=subtract_wtypes_operands, b=subtract_wtypes_operands, c=subtract_wtypes_operands\u001b[90m\u001b[39;49;00m\n",
            "    )\u001b[90m\u001b[39;49;00m\n",
            "\n",
            "\u001b[1m\u001b[31mtest_subtract.py\u001b[0m:11: \n",
            "_ _ _ _ _ _ _ _ _ _ _ _ _ _ _ _ _ _ _ _ _ _ _ _ _ _ _ _ _ _ _ _ _ _ _ _ _ _ _ _ \n",
            "\n",
            "a = 0, b = 0, c = 1\n",
            "\n",
            "    \u001b[37m@given\u001b[39;49;00m(\u001b[90m\u001b[39;49;00m\n",
            "        a=subtract_wtypes_operands, b=subtract_wtypes_operands, c=subtract_wtypes_operands\u001b[90m\u001b[39;49;00m\n",
            "    )\u001b[90m\u001b[39;49;00m\n",
            "    \u001b[94mdef\u001b[39;49;00m \u001b[92mtest_associative_binary_operation_subtract_wtypes\u001b[39;49;00m(a: \u001b[96mint\u001b[39;49;00m, b: \u001b[96mint\u001b[39;49;00m, c) -> \u001b[94mNone\u001b[39;49;00m:\u001b[90m\u001b[39;49;00m\n",
            "        left = mark_math.subtract_wtypes(a=a, b=mark_math.subtract_wtypes(a=b, b=c))\u001b[90m\u001b[39;49;00m\n",
            "        right = mark_math.subtract_wtypes(a=mark_math.subtract_wtypes(a=a, b=b), b=c)\u001b[90m\u001b[39;49;00m\n",
            ">       \u001b[94massert\u001b[39;49;00m left == right, (left, right)\u001b[90m\u001b[39;49;00m\n",
            "\u001b[1m\u001b[31mE       AssertionError: (1, -1)\u001b[0m\n",
            "\u001b[1m\u001b[31mE       assert 1 == -1\u001b[0m\n",
            "\u001b[1m\u001b[31mE       Falsifying example: test_associative_binary_operation_subtract_wtypes(\u001b[0m\n",
            "\u001b[1m\u001b[31mE           a=0,\u001b[0m\n",
            "\u001b[1m\u001b[31mE           b=0,\u001b[0m\n",
            "\u001b[1m\u001b[31mE           c=1,\u001b[0m\n",
            "\u001b[1m\u001b[31mE       )\u001b[0m\n",
            "\n",
            "\u001b[1m\u001b[31mtest_subtract.py\u001b[0m:16: AssertionError\n",
            "\u001b[31m\u001b[1m______________ test_commutative_binary_operation_subtract_wtypes _______________\u001b[0m\n",
            "\n",
            "    \u001b[37m@given\u001b[39;49;00m(a=subtract_wtypes_operands, b=subtract_wtypes_operands)\u001b[90m\u001b[39;49;00m\n",
            ">   \u001b[94mdef\u001b[39;49;00m \u001b[92mtest_commutative_binary_operation_subtract_wtypes\u001b[39;49;00m(a: \u001b[96mint\u001b[39;49;00m, b: \u001b[96mint\u001b[39;49;00m) -> \u001b[94mNone\u001b[39;49;00m:\u001b[90m\u001b[39;49;00m\n",
            "\n",
            "\u001b[1m\u001b[31mtest_subtract.py\u001b[0m:20: \n",
            "_ _ _ _ _ _ _ _ _ _ _ _ _ _ _ _ _ _ _ _ _ _ _ _ _ _ _ _ _ _ _ _ _ _ _ _ _ _ _ _ \n",
            "\n",
            "a = 0, b = 1\n",
            "\n",
            "    \u001b[37m@given\u001b[39;49;00m(a=subtract_wtypes_operands, b=subtract_wtypes_operands)\u001b[90m\u001b[39;49;00m\n",
            "    \u001b[94mdef\u001b[39;49;00m \u001b[92mtest_commutative_binary_operation_subtract_wtypes\u001b[39;49;00m(a: \u001b[96mint\u001b[39;49;00m, b: \u001b[96mint\u001b[39;49;00m) -> \u001b[94mNone\u001b[39;49;00m:\u001b[90m\u001b[39;49;00m\n",
            "        left = mark_math.subtract_wtypes(a=a, b=b)\u001b[90m\u001b[39;49;00m\n",
            "        right = mark_math.subtract_wtypes(a=b, b=a)\u001b[90m\u001b[39;49;00m\n",
            ">       \u001b[94massert\u001b[39;49;00m left == right, (left, right)\u001b[90m\u001b[39;49;00m\n",
            "\u001b[1m\u001b[31mE       AssertionError: (-1, 1)\u001b[0m\n",
            "\u001b[1m\u001b[31mE       assert -1 == 1\u001b[0m\n",
            "\u001b[1m\u001b[31mE       Falsifying example: test_commutative_binary_operation_subtract_wtypes(\u001b[0m\n",
            "\u001b[1m\u001b[31mE           a=0,\u001b[0m\n",
            "\u001b[1m\u001b[31mE           b=1,\u001b[0m\n",
            "\u001b[1m\u001b[31mE       )\u001b[0m\n",
            "\n",
            "\u001b[1m\u001b[31mtest_subtract.py\u001b[0m:23: AssertionError\n",
            "\u001b[36m\u001b[1m=========================== short test summary info ============================\u001b[0m\n",
            "\u001b[31mFAILED\u001b[0m test_subtract.py::\u001b[1mtest_associative_binary_operation_subtract_wtypes\u001b[0m - AssertionError: (1, -1)\n",
            "\u001b[31mFAILED\u001b[0m test_subtract.py::\u001b[1mtest_commutative_binary_operation_subtract_wtypes\u001b[0m - AssertionError: (-1, 1)\n",
            "\u001b[31m========================= \u001b[31m\u001b[1m2 failed\u001b[0m, \u001b[32m1 passed\u001b[0m\u001b[31m in 0.65s\u001b[0m\u001b[31m ==========================\u001b[0m\n"
          ]
        }
      ]
    },
    {
      "cell_type": "markdown",
      "source": [
        "OK! Now we see that because we specified that the inputs were typed as integers, it can figure out that this `subtract_wtypes` functions needs to (1) be commutative, (2) be associative, and (3) have an identity function.\n",
        "\n",
        "Pretty cool. While this isn't terribly useful in this case, for more complex test cases this can rapidly help you cover anticipated test cases."
      ],
      "metadata": {
        "id": "_ztsU4pl1hg4"
      }
    }
  ]
}